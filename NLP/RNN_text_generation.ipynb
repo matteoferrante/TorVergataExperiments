{
 "cells": [
  {
   "cell_type": "markdown",
   "metadata": {
    "collapsed": true
   },
   "source": [
    "## Text Generation with RNN \n",
    "\n",
    "based on https://www.tensorflow.org/text/tutorials/text_generation"
   ]
  },
  {
   "cell_type": "code",
   "execution_count": 7,
   "metadata": {},
   "outputs": [],
   "source": [
    "import tensorflow as tf\n",
    "from tensorflow.keras.layers.experimental import preprocessing\n",
    "\n",
    "import numpy as np\n",
    "import os\n",
    "import time"
   ]
  },
  {
   "cell_type": "code",
   "execution_count": 8,
   "metadata": {},
   "outputs": [
    {
     "name": "stdout",
     "output_type": "stream",
     "text": [
      "Length of text: 552078 characters\n"
     ]
    }
   ],
   "source": [
    "# Read, then decode for py2 compat.\n",
    "text = open(\"divina_commedia.txt\", 'rb').read().decode(encoding='utf-8')\n",
    "# length of text is the number of characters in it\n",
    "print(f'Length of text: {len(text)} characters')\n"
   ]
  },
  {
   "cell_type": "code",
   "execution_count": 11,
   "metadata": {},
   "outputs": [
    {
     "name": "stdout",
     "output_type": "stream",
     "text": [
      "LA DIVINA COMMEDIA\r\n",
      "\r\n",
      "di Dante Alighieri\r\n",
      "\r\n",
      "\r\n",
      "INFERNO\r\n",
      "\r\n",
      "\r\n",
      "\r\n",
      "\r\n",
      "Inferno\r\n",
      "Canto I\r\n",
      "\r\n",
      "\r\n",
      "Nel mezzo del cammin di nostra vita\r\n",
      "mi ritrovai per una selva oscura,\r\n",
      "ché la diritta via era smarrita.\r\n",
      "\r\n",
      "Ahi quanto a dir qual era è cosa dura\r\n",
      "esta selva selvagg\n"
     ]
    }
   ],
   "source": [
    "# Take a look at the first 250 characters in text\n",
    "print(text[:250])"
   ]
  },
  {
   "cell_type": "code",
   "execution_count": 12,
   "metadata": {},
   "outputs": [
    {
     "name": "stdout",
     "output_type": "stream",
     "text": [
      "80 unique characters\n"
     ]
    }
   ],
   "source": [
    "vocab = sorted(set(text))\n",
    "print(f'{len(vocab)} unique characters')"
   ]
  },
  {
   "cell_type": "markdown",
   "metadata": {},
   "source": [
    "### MAP the chars into numerical rapresentation and viceversa"
   ]
  },
  {
   "cell_type": "code",
   "execution_count": 13,
   "metadata": {},
   "outputs": [],
   "source": [
    "\n",
    "ids_from_chars = preprocessing.StringLookup(vocabulary=list(vocab), mask_token=None)"
   ]
  },
  {
   "cell_type": "code",
   "execution_count": 14,
   "metadata": {},
   "outputs": [],
   "source": [
    "chars_from_ids = tf.keras.layers.experimental.preprocessing.StringLookup(vocabulary=ids_from_chars.get_vocabulary(), invert=True, mask_token=None)"
   ]
  },
  {
   "cell_type": "code",
   "execution_count": 18,
   "metadata": {},
   "outputs": [],
   "source": [
    "def text_from_ids(ids):\n",
    "    \"\"\"just return the sequence of chars from ids\"\"\"\n",
    "    return tf.strings.reduce_join(chars_from_ids(ids), axis=-1)"
   ]
  },
  {
   "cell_type": "code",
   "execution_count": 20,
   "metadata": {},
   "outputs": [],
   "source": [
    "#generate the dataset\n",
    "\n",
    "all_ids = ids_from_chars(tf.strings.unicode_split(text, 'UTF-8'))\n",
    "ids_dataset = tf.data.Dataset.from_tensor_slices(all_ids)"
   ]
  },
  {
   "cell_type": "code",
   "execution_count": 23,
   "metadata": {},
   "outputs": [],
   "source": [
    "seq_length = 100                                         #number of elements in a sequence\n",
    "examples_per_epoch = len(text)//(seq_length+1)"
   ]
  },
  {
   "cell_type": "code",
   "execution_count": 25,
   "metadata": {},
   "outputs": [
    {
     "name": "stdout",
     "output_type": "stream",
     "text": [
      "b'LA DIVINA COMMEDIA\\r\\n\\r\\ndi Dante Alighieri\\r\\n\\r\\n\\r\\nINFERNO\\r\\n\\r\\n\\r\\n\\r\\n\\r\\nInferno\\r\\nCanto I\\r\\n\\r\\n\\r\\nNel mezzo del ca'\n",
      "b'mmin di nostra vita\\r\\nmi ritrovai per una selva oscura,\\r\\nch\\xc3\\xa9 la diritta via era smarrita.\\r\\n\\r\\nAhi quant'\n",
      "b'o a dir qual era \\xc3\\xa8 cosa dura\\r\\nesta selva selvaggia e aspra e forte\\r\\nche nel pensier rinova la paura!\\r'\n",
      "b'\\n\\r\\nTant\\xe2\\x80\\x99 \\xc3\\xa8 amara che poco \\xc3\\xa8 pi\\xc3\\xb9 morte;\\r\\nma per trattar del ben ch\\xe2\\x80\\x99i\\xe2\\x80\\x99 vi trovai,\\r\\ndir\\xc3\\xb2 de l\\xe2\\x80\\x99altre cose'\n",
      "b' ch\\xe2\\x80\\x99i\\xe2\\x80\\x99 v\\xe2\\x80\\x99ho scorte.\\r\\n\\r\\nIo non so ben ridir com\\xe2\\x80\\x99 i\\xe2\\x80\\x99 v\\xe2\\x80\\x99intrai,\\r\\ntant\\xe2\\x80\\x99 era pien di sonno a quel punto\\r\\nc'\n"
     ]
    }
   ],
   "source": [
    "#take advantage of the batch -> The text is not shuffled!\n",
    "\n",
    "sequences = ids_dataset.batch(seq_length+1, drop_remainder=True)\n",
    "\n",
    "for seq in sequences.take(5):\n",
    "    print(text_from_ids(seq).numpy())"
   ]
  },
  {
   "cell_type": "markdown",
   "metadata": {},
   "source": [
    "### generate the labels (the next character to be predited)"
   ]
  },
  {
   "cell_type": "code",
   "execution_count": 26,
   "metadata": {},
   "outputs": [],
   "source": [
    "def split_input_target(sequence):\n",
    "    input_text = sequence[:-1]\n",
    "    target_text = sequence[1:]\n",
    "    return input_text, target_text"
   ]
  },
  {
   "cell_type": "code",
   "execution_count": 27,
   "metadata": {},
   "outputs": [],
   "source": [
    "dataset = sequences.map(split_input_target)\n"
   ]
  },
  {
   "cell_type": "code",
   "execution_count": 28,
   "metadata": {},
   "outputs": [
    {
     "data": {
      "text/plain": [
       "<PrefetchDataset shapes: ((64, 100), (64, 100)), types: (tf.int64, tf.int64)>"
      ]
     },
     "execution_count": 28,
     "metadata": {},
     "output_type": "execute_result"
    }
   ],
   "source": [
    "# Batch size\n",
    "BATCH_SIZE = 64\n",
    "\n",
    "# Buffer size to shuffle the dataset\n",
    "# (TF data is designed to work with possibly infinite sequences,\n",
    "# so it doesn't attempt to shuffle the entire sequence in memory. Instead,\n",
    "# it maintains a buffer in which it shuffles elements).\n",
    "BUFFER_SIZE = 10000\n",
    "\n",
    "dataset = (\n",
    "    dataset\n",
    "    .shuffle(BUFFER_SIZE)\n",
    "    .batch(BATCH_SIZE, drop_remainder=True)\n",
    "    .prefetch(tf.data.experimental.AUTOTUNE))\n",
    "\n",
    "dataset"
   ]
  },
  {
   "cell_type": "code",
   "execution_count": 29,
   "metadata": {},
   "outputs": [
    {
     "name": "stdout",
     "output_type": "stream",
     "text": [
      "Input : [b'he de\\xe2\\x80\\x99 sodisfar chi qui s\\xe2\\x80\\x99astalla;\\r\\n\\r\\ne l\\xc3\\xa0 dov\\xe2\\x80\\x99 io fermai cotesto punto,\\r\\nnon s\\xe2\\x80\\x99ammendava, per prega'\n",
      " b'rte\\xc2\\xbb.\\r\\n\\r\\nE questo fece i nostri passi scarsi,\\r\\ntanto che pria lo scemo de la luna\\r\\nrigiunse al letto'\n",
      " b'ra mal dilettar con giuste pene.\\r\\n\\r\\nVostra natura, quando pecc\\xc3\\xb2 tota\\r\\nnel seme suo, da queste dignit'\n",
      " b'a,\\r\\nche soffera congiunto \\xe2\\x80\\x98sono\\xe2\\x80\\x99 ed \\xe2\\x80\\x98este\\xe2\\x80\\x99.\\r\\n\\r\\nDe la profonda condizion divina\\r\\nch\\xe2\\x80\\x99io tocco mo, la m'\n",
      " b'sempre amore accende;\\r\\n\\r\\ne s\\xe2\\x80\\x99altra cosa vostro amor seduce,\\r\\nnon \\xc3\\xa8 se non di quella alcun vestigio,\\r'\n",
      " b'sa che non duri\\r\\netternalmente, quello amor si spoglia.\\r\\n\\r\\nQuale per li seren tranquilli e puri\\r\\ndis'\n",
      " b'rse e che la punse.\\r\\n\\r\\nNe l\\xe2\\x80\\x99ordine che fanno i terzi sedi,\\r\\nsiede Rachel di sotto da costei\\r\\ncon B\\xc3\\xaba'\n",
      " b'perchia;\\r\\nmontar potrete su per la ruina,\\r\\nche giace in costa e nel fondo soperchia\\xc2\\xbb.\\r\\n\\r\\nLo duca ste'\n",
      " b'\\xe2\\x80\\x99\\xc3\\xa8 uo\\xe2\\x80\\x99 ch\\xe2\\x80\\x99aprirmi il tuo talento.\\r\\n\\r\\nMa dimmi la cagion che non ti guardi\\r\\nde lo scender qua giuso i'\n",
      " b'isio, e non s\\xe2\\x80\\x99attenta\\r\\ndi domandar, s\\xc3\\xac del troppo si teme;\\r\\n\\r\\ne la maggiore e la pi\\xc3\\xb9 luculenta\\r\\ndi q'\n",
      " b'nor cerchio una voce modesta,\\r\\nforse qual fu da l\\xe2\\x80\\x99angelo a Maria,\\r\\n\\r\\nrisponder: \\xc2\\xabQuanto fia lunga la'\n",
      " b'epetendo le volte, e tristo impara;\\r\\n\\r\\ncon l\\xe2\\x80\\x99altro se ne va tutta la gente;\\r\\nqual va dinanzi, e qual'\n",
      " b'per\\xc3\\xb2 col priego tuo talor mi giova.\\r\\n\\r\\nE cheggioti, per quel che tu pi\\xc3\\xb9 brami,\\r\\nse mai calchi la ter'\n",
      " b'cor mirava sua ferita,\\r\\ndomand\\xc3\\xb2 \\xe2\\x80\\x99l duca mio sanza dimoro:\\r\\n\\r\\n\\xc2\\xabChi fu colui da cui mala partita\\r\\ndi\\xe2\\x80\\x99 '\n",
      " b'nto II\\r\\n\\r\\n\\r\\nO voi che siete in piccioletta barca,\\r\\ndesiderosi d\\xe2\\x80\\x99ascoltar, seguiti\\r\\ndietro al mio leg'\n",
      " b'overca,\\r\\ntal di Fiorenza partir ti convene.\\r\\n\\r\\nQuesto si vuole e questo gi\\xc3\\xa0 si cerca,\\r\\ne tosto verr\\xc3\\xa0'\n",
      " b'e di neve in alpe sanza vento.\\r\\n\\r\\nQuali Alessandro in quelle parti calde\\r\\nd\\xe2\\x80\\x99Ind\\xc3\\xafa vide sopra \\xe2\\x80\\x99l s\\xc3\\xbco '\n",
      " b' ad esse \\xc3\\x8bufrat\\xc3\\xa8s e Tigri\\r\\nveder mi parve uscir d\\xe2\\x80\\x99una fontana,\\r\\ne, quasi amici, dipartirsi pigri.\\r\\n\\r'\n",
      " b'il cui ingegno\\r\\nne la fiamma d\\xe2\\x80\\x99amor non \\xc3\\xa8 adulto.\\r\\n\\r\\nVeramente, per\\xc3\\xb2 ch\\xe2\\x80\\x99a questo segno\\r\\nmolto si mir'\n",
      " b' la luce divina \\xc3\\xa8 penetrante\\r\\nper l\\xe2\\x80\\x99universo secondo ch\\xe2\\x80\\x99\\xc3\\xa8 degno,\\r\\ns\\xc3\\xac che nulla le puote essere ostan'\n",
      " b'\\r\\nE non pur una volta, questo spazzo\\r\\ngirando, si rinfresca nostra pena:\\r\\nio dico pena, e dovria dir'\n",
      " b' cinquanta\\r\\ne trenta fiate venne questo foco\\r\\na rinfiammarsi sotto la sua pianta.\\r\\n\\r\\nLi antichi miei'\n",
      " b' questo centro\\r\\nde l\\xe2\\x80\\x99ampio loco ove tornar tu ardi\\xe2\\x80\\x9d.\\r\\n\\r\\n\\xe2\\x80\\x9cDa che tu vuo\\xe2\\x80\\x99 saver cotanto a dentro,\\r\\ndir'\n",
      " b'chiera, bello e forte arnese\\r\\nda fronteggiar Bresciani e Bergamaschi,\\r\\nove la riva \\xe2\\x80\\x99ntorno pi\\xc3\\xb9 disce'\n",
      " b'.\\r\\n\\r\\n\\r\\n\\r\\n\\r\\nPurgatorio\\r\\nCanto II\\r\\n\\r\\n\\r\\nGi\\xc3\\xa0 era \\xe2\\x80\\x99l sole a l\\xe2\\x80\\x99orizzonte giunto\\r\\nlo cui merid\\xc3\\xafan cerchio c'\n",
      " b'ascuna s\\xe2\\x80\\x99affatica:\\r\\n\\r\\nla nova gente: \\xc2\\xabSoddoma e Gomorra\\xc2\\xbb;\\r\\ne l\\xe2\\x80\\x99altra: \\xc2\\xabNe la vacca entra Pasife,\\r\\npe'\n",
      " b'fu de la buona Gualdrada;\\r\\nGuido Guerra ebbe nome, e in sua vita\\r\\nfece col senno assai e con la spad'\n",
      " b'morsi\\r\\nche posson far lo cor volgere a Dio,\\r\\na la mia caritate son concorsi:\\r\\n\\r\\nch\\xc3\\xa9 l\\xe2\\x80\\x99essere del mon'\n",
      " b'lo ponte\\r\\nhanno a passar la gente modo colto,\\r\\n\\r\\nche da l\\xe2\\x80\\x99un lato tutti hanno la fronte\\r\\nverso \\xe2\\x80\\x99l ca'\n",
      " b'schi mai;\\r\\n\\r\\ne l\\xc3\\xa0 m\\xe2\\x80\\x99apparve, s\\xc3\\xac com\\xe2\\x80\\x99 elli appare\\r\\nsubitamente cosa che disvia\\r\\nper maraviglia tutto '\n",
      " b'i non andate gi\\xc3\\xb9 per un sentiero\\r\\nfilosofando: tanto vi trasporta\\r\\nl\\xe2\\x80\\x99amor de l\\xe2\\x80\\x99apparenza e \\xe2\\x80\\x99l suo pe'\n",
      " b'operse.\\r\\n\\r\\n\\xc2\\xabNoi siam qui ninfe e nel ciel siamo stelle;\\r\\npria che Beatrice discendesse al mondo,\\r\\nfu'\n",
      " b'paradiso,\\r\\nche gi\\xc3\\xb9 per l\\xe2\\x80\\x99altre suona s\\xc3\\xac divota\\xc2\\xbb.\\r\\n\\r\\n\\xc2\\xabTu hai l\\xe2\\x80\\x99udir mortal s\\xc3\\xac come il viso\\xc2\\xbb,\\r\\nrispuos'\n",
      " b'i ond\\xe2\\x80\\x99 e\\xe2\\x80\\x99 son vaghi,\\r\\nvolgendosi ver\\xe2\\x80\\x99 lui non furon lenti.\\r\\n\\r\\nNon vo\\xe2\\x80\\x99 per\\xc3\\xb2, lettor, che tu ti smaghi'\n",
      " b'eppe carreggiar Fet\\xc3\\xb2n,\\r\\n\\r\\nvedrai come a costui convien che vada\\r\\nda l\\xe2\\x80\\x99un, quando a colui da l\\xe2\\x80\\x99altro '\n",
      " b'de;\\r\\nnon t\\xe2\\x80\\x99inganni l\\xe2\\x80\\x99ampiezza de l\\xe2\\x80\\x99intrare!\\xc2\\xbb.\\r\\nE \\xe2\\x80\\x99l duca mio a lui: \\xc2\\xabPerch\\xc3\\xa9 pur gride?\\r\\n\\r\\nNon impedi'\n",
      " b'altra, con grand\\xe2\\x80\\x99 urli,\\r\\nvoltando pesi per forza di poppa.\\r\\n\\r\\nPercot\\xc3\\xabansi \\xe2\\x80\\x99ncontro; e poscia pur l\\xc3\\xac\\r'\n",
      " b'tavi altera e disdegnosa\\r\\ne nel mover de li occhi onesta e tarda!\\r\\n\\r\\nElla non ci dic\\xc3\\xaba alcuna cosa,\\r'\n",
      " b'sanza errore,\\r\\nma l\\xe2\\x80\\x99altro puote errar per malo obietto\\r\\no per troppo o per poco di vigore.\\r\\n\\r\\nMentre'\n",
      " b'so, e \\xe2\\x80\\x99l passo non men tosto,\\r\\nappresso i savi, che parlavan s\\xc3\\xace,\\r\\nche l\\xe2\\x80\\x99andar mi facean di nullo co'\n",
      " b'furo\\xe2\\x80\\x9d;\\r\\nper ch\\xe2\\x80\\x99io l\\xc3\\xa0 dove vedi son perduto,\\r\\ne s\\xc3\\xac vestito, andando, mi rancuro\\xc2\\xbb.\\r\\n\\r\\nQuand\\xe2\\x80\\x99 elli ebbe'\n",
      " b'oro isnelle.\\r\\n\\r\\nUn amen non saria possuto dirsi\\r\\ntosto cos\\xc3\\xac com\\xe2\\x80\\x99 e\\xe2\\x80\\x99 fuoro spariti;\\r\\nper ch\\xe2\\x80\\x99al maestr'\n",
      " b' appresso: \\xc2\\xabO perpet\\xc3\\xbci fiori\\r\\nde l\\xe2\\x80\\x99etterna letizia, che pur uno\\r\\nparer mi fate tutti vostri odori,\\r\\n'\n",
      " b'\\r\\ndiversamente in essa ferve e tepe.\\r\\n\\r\\nVedi l\\xe2\\x80\\x99eccelso omai e la larghezza\\r\\nde l\\xe2\\x80\\x99etterno valor, posc'\n",
      " b'sti giri\\xc2\\xbb.\\r\\n\\r\\n\\r\\n\\r\\n\\r\\nParadiso\\r\\nCanto XXIX\\r\\n\\r\\n\\r\\nQuando ambedue li figli di Latona,\\r\\ncoperti del Monton'\n",
      " b'Notaro e Guittone e me ritenne\\r\\ndi qua dal dolce stil novo ch\\xe2\\x80\\x99i\\xe2\\x80\\x99 odo!\\r\\n\\r\\nIo veggio ben come le vostr'\n",
      " b'del grifon seco menarmi,\\r\\nove Beatrice stava volta a noi.\\r\\n\\r\\nDisser: \\xc2\\xabFa che le viste non risparmi;\\r'\n",
      " b'a,\\r\\n\\r\\ncome la mosca cede a la zanzara,\\r\\nvede lucciole gi\\xc3\\xb9 per la vallea,\\r\\nforse col\\xc3\\xa0 dov\\xe2\\x80\\x99 e\\xe2\\x80\\x99 vendemm'\n",
      " b' latra,\\r\\ne Modena e Perugia fu dolente.\\r\\n\\r\\nPiangene ancor la trista Cleopatra,\\r\\nche, fuggendoli inna'\n",
      " b'tin Donato\\r\\nche po\\xc3\\xaf il suocero il f\\xc3\\xa9 lor parente.\\r\\n\\r\\nGi\\xc3\\xa0 era \\xe2\\x80\\x99l Caponsacco nel mercato\\r\\ndisceso gi\\xc3\\xb9 '\n",
      " b'lato;\\r\\ndomandollo ond\\xe2\\x80\\x99 ei fosse, e quei rispuose:\\r\\n\\xc2\\xabI\\xe2\\x80\\x99 fui del regno di Navarra nato.\\r\\n\\r\\nMia madre a'\n",
      " b' sanza pro si penta\\r\\n\\r\\nqualunque priva s\\xc3\\xa9 del vostro mondo,\\r\\nbiscazza e fonde la sua facultade,\\r\\ne p'\n",
      " b', locata con esso\\r\\ncome stella con stella si coll\\xc3\\xb2ca.\\r\\n\\r\\nForse cotanto quanto pare appresso\\r\\nalo cig'\n",
      " b'r ti fia leggero\\r\\ncom\\xe2\\x80\\x99 a seconda gi\\xc3\\xb9 andar per nave,\\r\\n\\r\\nallor sarai al fin d\\xe2\\x80\\x99esto sentiero;\\r\\nquivi d'\n",
      " b'eltro,\\r\\nma sap\\xc3\\xafenza, amore e virtute,\\r\\ne sua nazion sar\\xc3\\xa0 tra feltro e feltro.\\r\\n\\r\\nDi quella umile Ita'\n",
      " b'e poi che \\xe2\\x80\\x99l sospecciar fu tutto spento,\\r\\n\\r\\npiangendo disse: \\xc2\\xabSe per questo cieco\\r\\ncarcere vai per a'\n",
      " b'sentimmo gente che si nicchia\\r\\nne l\\xe2\\x80\\x99altra bolgia e che col muso scuffa,\\r\\ne s\\xc3\\xa9 medesma con le palme p'\n",
      " b'e e lasciolli di piano,\\r\\ns\\xc3\\xac com\\xe2\\x80\\x99 e\\xe2\\x80\\x99 dice; e ne li altri offici anche\\r\\nbarattier fu non picciol, ma s'\n",
      " b'ossa,\\r\\ndi cui dolente ancor Milan ragiona.\\r\\n\\r\\nE tale ha gi\\xc3\\xa0 l\\xe2\\x80\\x99un pi\\xc3\\xa8 dentro la fossa,\\r\\nche tosto pia'\n",
      " b'ascorse\\r\\nda tutte parti per la gran foresta,\\r\\ntal che di balenar mi mise in forse.\\r\\n\\r\\nMa perch\\xc3\\xa9 \\xe2\\x80\\x99l b'\n",
      " b' credi tu me teco e ch\\xe2\\x80\\x99io ti guidi?\\r\\n\\r\\nVespero \\xc3\\xa8 gi\\xc3\\xa0 col\\xc3\\xa0 dov\\xe2\\x80\\x99 \\xc3\\xa8 sepolto\\r\\nlo corpo dentro al quale i'\n",
      " b'he di s\\xc3\\xb9 prendono e di sotto fanno.\\r\\n\\r\\nRiguarda bene omai s\\xc3\\xac com\\xe2\\x80\\x99 io vado\\r\\nper questo loco al vero c'\n",
      " b'ndo prima\\r\\nben la ruina, e diedemi di piglio.\\r\\n\\r\\nE come quei ch\\xe2\\x80\\x99adopera ed estima,\\r\\nche sempre par c'\n",
      " b'orata, che donnea\\r\\ncon la mia donna sempre, di ridure\\r\\nad essa li occhi pi\\xc3\\xb9 che mai ardea;\\r\\n\\r\\ne se n']\n",
      "Target: [b'e de\\xe2\\x80\\x99 sodisfar chi qui s\\xe2\\x80\\x99astalla;\\r\\n\\r\\ne l\\xc3\\xa0 dov\\xe2\\x80\\x99 io fermai cotesto punto,\\r\\nnon s\\xe2\\x80\\x99ammendava, per pregar'\n",
      " b'te\\xc2\\xbb.\\r\\n\\r\\nE questo fece i nostri passi scarsi,\\r\\ntanto che pria lo scemo de la luna\\r\\nrigiunse al letto '\n",
      " b'a mal dilettar con giuste pene.\\r\\n\\r\\nVostra natura, quando pecc\\xc3\\xb2 tota\\r\\nnel seme suo, da queste dignita'\n",
      " b',\\r\\nche soffera congiunto \\xe2\\x80\\x98sono\\xe2\\x80\\x99 ed \\xe2\\x80\\x98este\\xe2\\x80\\x99.\\r\\n\\r\\nDe la profonda condizion divina\\r\\nch\\xe2\\x80\\x99io tocco mo, la me'\n",
      " b'empre amore accende;\\r\\n\\r\\ne s\\xe2\\x80\\x99altra cosa vostro amor seduce,\\r\\nnon \\xc3\\xa8 se non di quella alcun vestigio,\\r\\n'\n",
      " b'a che non duri\\r\\netternalmente, quello amor si spoglia.\\r\\n\\r\\nQuale per li seren tranquilli e puri\\r\\ndisc'\n",
      " b'se e che la punse.\\r\\n\\r\\nNe l\\xe2\\x80\\x99ordine che fanno i terzi sedi,\\r\\nsiede Rachel di sotto da costei\\r\\ncon B\\xc3\\xabat'\n",
      " b'erchia;\\r\\nmontar potrete su per la ruina,\\r\\nche giace in costa e nel fondo soperchia\\xc2\\xbb.\\r\\n\\r\\nLo duca stet'\n",
      " b'\\xc3\\xa8 uo\\xe2\\x80\\x99 ch\\xe2\\x80\\x99aprirmi il tuo talento.\\r\\n\\r\\nMa dimmi la cagion che non ti guardi\\r\\nde lo scender qua giuso in'\n",
      " b'sio, e non s\\xe2\\x80\\x99attenta\\r\\ndi domandar, s\\xc3\\xac del troppo si teme;\\r\\n\\r\\ne la maggiore e la pi\\xc3\\xb9 luculenta\\r\\ndi qu'\n",
      " b'or cerchio una voce modesta,\\r\\nforse qual fu da l\\xe2\\x80\\x99angelo a Maria,\\r\\n\\r\\nrisponder: \\xc2\\xabQuanto fia lunga la '\n",
      " b'petendo le volte, e tristo impara;\\r\\n\\r\\ncon l\\xe2\\x80\\x99altro se ne va tutta la gente;\\r\\nqual va dinanzi, e qual '\n",
      " b'er\\xc3\\xb2 col priego tuo talor mi giova.\\r\\n\\r\\nE cheggioti, per quel che tu pi\\xc3\\xb9 brami,\\r\\nse mai calchi la terr'\n",
      " b'or mirava sua ferita,\\r\\ndomand\\xc3\\xb2 \\xe2\\x80\\x99l duca mio sanza dimoro:\\r\\n\\r\\n\\xc2\\xabChi fu colui da cui mala partita\\r\\ndi\\xe2\\x80\\x99 c'\n",
      " b'to II\\r\\n\\r\\n\\r\\nO voi che siete in piccioletta barca,\\r\\ndesiderosi d\\xe2\\x80\\x99ascoltar, seguiti\\r\\ndietro al mio legn'\n",
      " b'verca,\\r\\ntal di Fiorenza partir ti convene.\\r\\n\\r\\nQuesto si vuole e questo gi\\xc3\\xa0 si cerca,\\r\\ne tosto verr\\xc3\\xa0 '\n",
      " b' di neve in alpe sanza vento.\\r\\n\\r\\nQuali Alessandro in quelle parti calde\\r\\nd\\xe2\\x80\\x99Ind\\xc3\\xafa vide sopra \\xe2\\x80\\x99l s\\xc3\\xbco s'\n",
      " b'ad esse \\xc3\\x8bufrat\\xc3\\xa8s e Tigri\\r\\nveder mi parve uscir d\\xe2\\x80\\x99una fontana,\\r\\ne, quasi amici, dipartirsi pigri.\\r\\n\\r\\n'\n",
      " b'l cui ingegno\\r\\nne la fiamma d\\xe2\\x80\\x99amor non \\xc3\\xa8 adulto.\\r\\n\\r\\nVeramente, per\\xc3\\xb2 ch\\xe2\\x80\\x99a questo segno\\r\\nmolto si mira'\n",
      " b'la luce divina \\xc3\\xa8 penetrante\\r\\nper l\\xe2\\x80\\x99universo secondo ch\\xe2\\x80\\x99\\xc3\\xa8 degno,\\r\\ns\\xc3\\xac che nulla le puote essere ostant'\n",
      " b'\\nE non pur una volta, questo spazzo\\r\\ngirando, si rinfresca nostra pena:\\r\\nio dico pena, e dovria dir '\n",
      " b'cinquanta\\r\\ne trenta fiate venne questo foco\\r\\na rinfiammarsi sotto la sua pianta.\\r\\n\\r\\nLi antichi miei '\n",
      " b'questo centro\\r\\nde l\\xe2\\x80\\x99ampio loco ove tornar tu ardi\\xe2\\x80\\x9d.\\r\\n\\r\\n\\xe2\\x80\\x9cDa che tu vuo\\xe2\\x80\\x99 saver cotanto a dentro,\\r\\ndiro'\n",
      " b'hiera, bello e forte arnese\\r\\nda fronteggiar Bresciani e Bergamaschi,\\r\\nove la riva \\xe2\\x80\\x99ntorno pi\\xc3\\xb9 disces'\n",
      " b'\\r\\n\\r\\n\\r\\n\\r\\n\\r\\nPurgatorio\\r\\nCanto II\\r\\n\\r\\n\\r\\nGi\\xc3\\xa0 era \\xe2\\x80\\x99l sole a l\\xe2\\x80\\x99orizzonte giunto\\r\\nlo cui merid\\xc3\\xafan cerchio co'\n",
      " b'scuna s\\xe2\\x80\\x99affatica:\\r\\n\\r\\nla nova gente: \\xc2\\xabSoddoma e Gomorra\\xc2\\xbb;\\r\\ne l\\xe2\\x80\\x99altra: \\xc2\\xabNe la vacca entra Pasife,\\r\\nper'\n",
      " b'u de la buona Gualdrada;\\r\\nGuido Guerra ebbe nome, e in sua vita\\r\\nfece col senno assai e con la spada'\n",
      " b'orsi\\r\\nche posson far lo cor volgere a Dio,\\r\\na la mia caritate son concorsi:\\r\\n\\r\\nch\\xc3\\xa9 l\\xe2\\x80\\x99essere del mond'\n",
      " b'o ponte\\r\\nhanno a passar la gente modo colto,\\r\\n\\r\\nche da l\\xe2\\x80\\x99un lato tutti hanno la fronte\\r\\nverso \\xe2\\x80\\x99l cas'\n",
      " b'chi mai;\\r\\n\\r\\ne l\\xc3\\xa0 m\\xe2\\x80\\x99apparve, s\\xc3\\xac com\\xe2\\x80\\x99 elli appare\\r\\nsubitamente cosa che disvia\\r\\nper maraviglia tutto a'\n",
      " b' non andate gi\\xc3\\xb9 per un sentiero\\r\\nfilosofando: tanto vi trasporta\\r\\nl\\xe2\\x80\\x99amor de l\\xe2\\x80\\x99apparenza e \\xe2\\x80\\x99l suo pen'\n",
      " b'perse.\\r\\n\\r\\n\\xc2\\xabNoi siam qui ninfe e nel ciel siamo stelle;\\r\\npria che Beatrice discendesse al mondo,\\r\\nfum'\n",
      " b'aradiso,\\r\\nche gi\\xc3\\xb9 per l\\xe2\\x80\\x99altre suona s\\xc3\\xac divota\\xc2\\xbb.\\r\\n\\r\\n\\xc2\\xabTu hai l\\xe2\\x80\\x99udir mortal s\\xc3\\xac come il viso\\xc2\\xbb,\\r\\nrispuose'\n",
      " b' ond\\xe2\\x80\\x99 e\\xe2\\x80\\x99 son vaghi,\\r\\nvolgendosi ver\\xe2\\x80\\x99 lui non furon lenti.\\r\\n\\r\\nNon vo\\xe2\\x80\\x99 per\\xc3\\xb2, lettor, che tu ti smaghi\\r'\n",
      " b'ppe carreggiar Fet\\xc3\\xb2n,\\r\\n\\r\\nvedrai come a costui convien che vada\\r\\nda l\\xe2\\x80\\x99un, quando a colui da l\\xe2\\x80\\x99altro f'\n",
      " b'e;\\r\\nnon t\\xe2\\x80\\x99inganni l\\xe2\\x80\\x99ampiezza de l\\xe2\\x80\\x99intrare!\\xc2\\xbb.\\r\\nE \\xe2\\x80\\x99l duca mio a lui: \\xc2\\xabPerch\\xc3\\xa9 pur gride?\\r\\n\\r\\nNon impedir'\n",
      " b'ltra, con grand\\xe2\\x80\\x99 urli,\\r\\nvoltando pesi per forza di poppa.\\r\\n\\r\\nPercot\\xc3\\xabansi \\xe2\\x80\\x99ncontro; e poscia pur l\\xc3\\xac\\r\\n'\n",
      " b'avi altera e disdegnosa\\r\\ne nel mover de li occhi onesta e tarda!\\r\\n\\r\\nElla non ci dic\\xc3\\xaba alcuna cosa,\\r\\n'\n",
      " b'anza errore,\\r\\nma l\\xe2\\x80\\x99altro puote errar per malo obietto\\r\\no per troppo o per poco di vigore.\\r\\n\\r\\nMentre '\n",
      " b'o, e \\xe2\\x80\\x99l passo non men tosto,\\r\\nappresso i savi, che parlavan s\\xc3\\xace,\\r\\nche l\\xe2\\x80\\x99andar mi facean di nullo cos'\n",
      " b'uro\\xe2\\x80\\x9d;\\r\\nper ch\\xe2\\x80\\x99io l\\xc3\\xa0 dove vedi son perduto,\\r\\ne s\\xc3\\xac vestito, andando, mi rancuro\\xc2\\xbb.\\r\\n\\r\\nQuand\\xe2\\x80\\x99 elli ebbe '\n",
      " b'ro isnelle.\\r\\n\\r\\nUn amen non saria possuto dirsi\\r\\ntosto cos\\xc3\\xac com\\xe2\\x80\\x99 e\\xe2\\x80\\x99 fuoro spariti;\\r\\nper ch\\xe2\\x80\\x99al maestro'\n",
      " b'appresso: \\xc2\\xabO perpet\\xc3\\xbci fiori\\r\\nde l\\xe2\\x80\\x99etterna letizia, che pur uno\\r\\nparer mi fate tutti vostri odori,\\r\\n\\r'\n",
      " b'\\ndiversamente in essa ferve e tepe.\\r\\n\\r\\nVedi l\\xe2\\x80\\x99eccelso omai e la larghezza\\r\\nde l\\xe2\\x80\\x99etterno valor, posci'\n",
      " b'ti giri\\xc2\\xbb.\\r\\n\\r\\n\\r\\n\\r\\n\\r\\nParadiso\\r\\nCanto XXIX\\r\\n\\r\\n\\r\\nQuando ambedue li figli di Latona,\\r\\ncoperti del Montone'\n",
      " b'otaro e Guittone e me ritenne\\r\\ndi qua dal dolce stil novo ch\\xe2\\x80\\x99i\\xe2\\x80\\x99 odo!\\r\\n\\r\\nIo veggio ben come le vostre'\n",
      " b'el grifon seco menarmi,\\r\\nove Beatrice stava volta a noi.\\r\\n\\r\\nDisser: \\xc2\\xabFa che le viste non risparmi;\\r\\n'\n",
      " b',\\r\\n\\r\\ncome la mosca cede a la zanzara,\\r\\nvede lucciole gi\\xc3\\xb9 per la vallea,\\r\\nforse col\\xc3\\xa0 dov\\xe2\\x80\\x99 e\\xe2\\x80\\x99 vendemmi'\n",
      " b'latra,\\r\\ne Modena e Perugia fu dolente.\\r\\n\\r\\nPiangene ancor la trista Cleopatra,\\r\\nche, fuggendoli innan'\n",
      " b'in Donato\\r\\nche po\\xc3\\xaf il suocero il f\\xc3\\xa9 lor parente.\\r\\n\\r\\nGi\\xc3\\xa0 era \\xe2\\x80\\x99l Caponsacco nel mercato\\r\\ndisceso gi\\xc3\\xb9 d'\n",
      " b'ato;\\r\\ndomandollo ond\\xe2\\x80\\x99 ei fosse, e quei rispuose:\\r\\n\\xc2\\xabI\\xe2\\x80\\x99 fui del regno di Navarra nato.\\r\\n\\r\\nMia madre a '\n",
      " b'sanza pro si penta\\r\\n\\r\\nqualunque priva s\\xc3\\xa9 del vostro mondo,\\r\\nbiscazza e fonde la sua facultade,\\r\\ne pi'\n",
      " b' locata con esso\\r\\ncome stella con stella si coll\\xc3\\xb2ca.\\r\\n\\r\\nForse cotanto quanto pare appresso\\r\\nalo cign'\n",
      " b' ti fia leggero\\r\\ncom\\xe2\\x80\\x99 a seconda gi\\xc3\\xb9 andar per nave,\\r\\n\\r\\nallor sarai al fin d\\xe2\\x80\\x99esto sentiero;\\r\\nquivi di'\n",
      " b'ltro,\\r\\nma sap\\xc3\\xafenza, amore e virtute,\\r\\ne sua nazion sar\\xc3\\xa0 tra feltro e feltro.\\r\\n\\r\\nDi quella umile Ital'\n",
      " b' poi che \\xe2\\x80\\x99l sospecciar fu tutto spento,\\r\\n\\r\\npiangendo disse: \\xc2\\xabSe per questo cieco\\r\\ncarcere vai per al'\n",
      " b'entimmo gente che si nicchia\\r\\nne l\\xe2\\x80\\x99altra bolgia e che col muso scuffa,\\r\\ne s\\xc3\\xa9 medesma con le palme pi'\n",
      " b' e lasciolli di piano,\\r\\ns\\xc3\\xac com\\xe2\\x80\\x99 e\\xe2\\x80\\x99 dice; e ne li altri offici anche\\r\\nbarattier fu non picciol, ma so'\n",
      " b'ssa,\\r\\ndi cui dolente ancor Milan ragiona.\\r\\n\\r\\nE tale ha gi\\xc3\\xa0 l\\xe2\\x80\\x99un pi\\xc3\\xa8 dentro la fossa,\\r\\nche tosto pian'\n",
      " b'scorse\\r\\nda tutte parti per la gran foresta,\\r\\ntal che di balenar mi mise in forse.\\r\\n\\r\\nMa perch\\xc3\\xa9 \\xe2\\x80\\x99l ba'\n",
      " b'credi tu me teco e ch\\xe2\\x80\\x99io ti guidi?\\r\\n\\r\\nVespero \\xc3\\xa8 gi\\xc3\\xa0 col\\xc3\\xa0 dov\\xe2\\x80\\x99 \\xc3\\xa8 sepolto\\r\\nlo corpo dentro al quale io'\n",
      " b'e di s\\xc3\\xb9 prendono e di sotto fanno.\\r\\n\\r\\nRiguarda bene omai s\\xc3\\xac com\\xe2\\x80\\x99 io vado\\r\\nper questo loco al vero ch'\n",
      " b'do prima\\r\\nben la ruina, e diedemi di piglio.\\r\\n\\r\\nE come quei ch\\xe2\\x80\\x99adopera ed estima,\\r\\nche sempre par ch'\n",
      " b'rata, che donnea\\r\\ncon la mia donna sempre, di ridure\\r\\nad essa li occhi pi\\xc3\\xb9 che mai ardea;\\r\\n\\r\\ne se na']\n"
     ]
    }
   ],
   "source": [
    "for input_example, target_example in dataset.take(1):\n",
    "    print(\"Input :\", text_from_ids(input_example).numpy())\n",
    "    print(\"Target:\", text_from_ids(target_example).numpy())"
   ]
  },
  {
   "cell_type": "code",
   "execution_count": 30,
   "metadata": {},
   "outputs": [],
   "source": [
    "# Length of the vocabulary in chars\n",
    "vocab_size = len(vocab)\n",
    "\n",
    "# The embedding dimension\n",
    "embedding_dim = 256\n",
    "\n",
    "# Number of RNN units\n",
    "rnn_units = 1024"
   ]
  },
  {
   "cell_type": "code",
   "execution_count": 32,
   "metadata": {},
   "outputs": [],
   "source": [
    "class MyModel(tf.keras.Model):\n",
    "    def __init__(self, vocab_size, embedding_dim, rnn_units):\n",
    "        super().__init__(self)\n",
    "        self.embedding = tf.keras.layers.Embedding(vocab_size, embedding_dim)\n",
    "        self.gru = tf.keras.layers.GRU(rnn_units,\n",
    "                                       return_sequences=True,\n",
    "                                       return_state=True)\n",
    "        self.dense = tf.keras.layers.Dense(vocab_size)\n",
    "\n",
    "    def call(self, inputs, states=None, return_state=False, training=False):\n",
    "        x = inputs\n",
    "        x = self.embedding(x, training=training)\n",
    "        if states is None:\n",
    "            states = self.gru.get_initial_state(x)\n",
    "        x, states = self.gru(x, initial_state=states, training=training)\n",
    "        x = self.dense(x, training=training)\n",
    "\n",
    "        if return_state:\n",
    "            return x, states\n",
    "        else:\n",
    "            return x"
   ]
  },
  {
   "cell_type": "code",
   "execution_count": 33,
   "metadata": {},
   "outputs": [],
   "source": [
    "model = MyModel(\n",
    "    # Be sure the vocabulary size matches the `StringLookup` layers.\n",
    "    vocab_size=len(ids_from_chars.get_vocabulary()),\n",
    "    embedding_dim=embedding_dim,\n",
    "    rnn_units=rnn_units)"
   ]
  },
  {
   "cell_type": "code",
   "execution_count": 34,
   "metadata": {},
   "outputs": [],
   "source": [
    "loss = tf.losses.SparseCategoricalCrossentropy(from_logits=True)\n",
    "model.compile(optimizer='adam', loss=loss)"
   ]
  },
  {
   "cell_type": "code",
   "execution_count": 36,
   "metadata": {},
   "outputs": [
    {
     "name": "stdout",
     "output_type": "stream",
     "text": [
      "Epoch 1/20\n",
      "85/85 [==============================] - 9s 48ms/step - loss: 2.8901\n",
      "Epoch 2/20\n",
      "85/85 [==============================] - 4s 47ms/step - loss: 2.0997\n",
      "Epoch 3/20\n",
      "85/85 [==============================] - 4s 48ms/step - loss: 1.9145\n",
      "Epoch 4/20\n",
      "85/85 [==============================] - 4s 48ms/step - loss: 1.7925\n",
      "Epoch 5/20\n",
      "85/85 [==============================] - 4s 48ms/step - loss: 1.6923\n",
      "Epoch 6/20\n",
      "85/85 [==============================] - 5s 48ms/step - loss: 1.6073\n",
      "Epoch 7/20\n",
      "85/85 [==============================] - 5s 48ms/step - loss: 1.5366\n",
      "Epoch 8/20\n",
      "85/85 [==============================] - 5s 48ms/step - loss: 1.4761\n",
      "Epoch 9/20\n",
      "85/85 [==============================] - 5s 48ms/step - loss: 1.4259\n",
      "Epoch 10/20\n",
      "85/85 [==============================] - 5s 48ms/step - loss: 1.3801\n",
      "Epoch 11/20\n",
      "85/85 [==============================] - 5s 48ms/step - loss: 1.3379\n",
      "Epoch 12/20\n",
      "85/85 [==============================] - 5s 49ms/step - loss: 1.2956\n",
      "Epoch 13/20\n",
      "85/85 [==============================] - 5s 49ms/step - loss: 1.2532: 0s - loss: 1.252 - ETA: 0s - loss: 1\n",
      "Epoch 14/20\n",
      "85/85 [==============================] - 5s 49ms/step - loss: 1.2104: 2s - ETA: 1\n",
      "Epoch 15/20\n",
      "85/85 [==============================] - 5s 49ms/step - loss: 1.1639\n",
      "Epoch 16/20\n",
      "85/85 [==============================] - 5s 49ms/step - loss: 1.1144: 0s - loss: 1.114\n",
      "Epoch 17/20\n",
      "85/85 [==============================] - 5s 50ms/step - loss: 1.0626\n",
      "Epoch 18/20\n",
      "85/85 [==============================] - 5s 50ms/step - loss: 1.0072\n",
      "Epoch 19/20\n",
      "85/85 [==============================] - 5s 51ms/step - loss: 0.9451\n",
      "Epoch 20/20\n",
      "85/85 [==============================] - 5s 52ms/step - loss: 0.8842\n"
     ]
    }
   ],
   "source": [
    "# Directory where the checkpoints will be saved\n",
    "os.makedirs(\"training_checkpoints\",exist_ok=True)\n",
    "checkpoint_dir = 'training_checkpoints'\n",
    "# Name of the checkpoint files\n",
    "checkpoint_prefix = os.path.join(checkpoint_dir, \"ckpt_{epoch}\")\n",
    "\n",
    "checkpoint_callback = tf.keras.callbacks.ModelCheckpoint(\n",
    "    filepath=checkpoint_prefix,\n",
    "    save_weights_only=True)\n",
    "history = model.fit(dataset, epochs=20, callbacks=[checkpoint_callback])\n"
   ]
  },
  {
   "cell_type": "markdown",
   "metadata": {},
   "source": [
    "## Function to generate text"
   ]
  },
  {
   "cell_type": "code",
   "execution_count": 37,
   "metadata": {},
   "outputs": [],
   "source": [
    "class OneStep(tf.keras.Model):\n",
    "    def __init__(self, model, chars_from_ids, ids_from_chars, temperature=1.0):\n",
    "        super().__init__()\n",
    "        self.temperature = temperature\n",
    "        self.model = model\n",
    "        self.chars_from_ids = chars_from_ids\n",
    "        self.ids_from_chars = ids_from_chars\n",
    "\n",
    "        # Create a mask to prevent \"[UNK]\" from being generated.\n",
    "        skip_ids = self.ids_from_chars(['[UNK]'])[:, None]\n",
    "        sparse_mask = tf.SparseTensor(\n",
    "            # Put a -inf at each bad index.\n",
    "            values=[-float('inf')]*len(skip_ids),\n",
    "            indices=skip_ids,\n",
    "            # Match the shape to the vocabulary\n",
    "            dense_shape=[len(ids_from_chars.get_vocabulary())])\n",
    "        self.prediction_mask = tf.sparse.to_dense(sparse_mask)\n",
    "\n",
    "    @tf.function\n",
    "    def generate_one_step(self, inputs, states=None):\n",
    "        # Convert strings to token IDs.\n",
    "        input_chars = tf.strings.unicode_split(inputs, 'UTF-8')\n",
    "        input_ids = self.ids_from_chars(input_chars).to_tensor()\n",
    "\n",
    "        # Run the model.\n",
    "        # predicted_logits.shape is [batch, char, next_char_logits]\n",
    "        predicted_logits, states = self.model(inputs=input_ids, states=states,\n",
    "                                              return_state=True)\n",
    "        # Only use the last prediction.\n",
    "        predicted_logits = predicted_logits[:, -1, :]\n",
    "        predicted_logits = predicted_logits/self.temperature\n",
    "        \n",
    "        # Apply the prediction mask: prevent \"[UNK]\" from being generated.\n",
    "        predicted_logits = predicted_logits + self.prediction_mask\n",
    "\n",
    "        # Sample the output logits to generate token IDs.\n",
    "        predicted_ids = tf.random.categorical(predicted_logits, num_samples=1)\n",
    "        predicted_ids = tf.squeeze(predicted_ids, axis=-1)\n",
    "\n",
    "        # Convert from token ids to characters\n",
    "        predicted_chars = self.chars_from_ids(predicted_ids)\n",
    "\n",
    "        # Return the characters and model state.\n",
    "        return predicted_chars, states\n"
   ]
  },
  {
   "cell_type": "code",
   "execution_count": 38,
   "metadata": {},
   "outputs": [],
   "source": [
    "one_step_model = OneStep(model, chars_from_ids, ids_from_chars)\n"
   ]
  },
  {
   "cell_type": "code",
   "execution_count": 39,
   "metadata": {},
   "outputs": [
    {
     "name": "stdout",
     "output_type": "stream",
     "text": [
      "CANTO:\r\n",
      "ancor, se ’l mondo fé paura e diso,\r\n",
      "a la veduta sol di nova pietate,\r\n",
      "\r\n",
      "che qui si gittar tutta si diparte\r\n",
      "tu ’l segno di ragionar dentro al monte.\r\n",
      "\r\n",
      "La perfusca penna che li ’mpenide:\r\n",
      "vedesse così sen gio sovvenne.\r\n",
      "\r\n",
      "Ben far poscia, pera di la coda incora.\r\n",
      "\r\n",
      "Quando si vostrò poi: grandizio e vaso,\r\n",
      "accorto son di grande artore,\r\n",
      "così la coronato del suo prossi,\r\n",
      "e venne a l’embision si cerchio\r\n",
      "là dove mi lieve si divolse:\r\n",
      "per che ’l dolor non fosse chiamata;\r\n",
      "“Deh, se, Cristolondo, e anco involto.\r\n",
      "\r\n",
      "Ed elli a me: «Tutti son ricusci,\r\n",
      "e vinne lui, onore, e aspetto\r\n",
      "salir potiensi, per lor s’affette\r\n",
      "intremaste a la sua melvadina;\r\n",
      "qui conobbi il color de la piuma\r\n",
      "fanno uscito duca, giunti a la rvolto.\r\n",
      "\r\n",
      "Come la mia manna, quando Lodo\r\n",
      "si fa del renare o di sotto?».\r\n",
      "\r\n",
      "Ed elli a me: «Tu vedëa i miei passi\r\n",
      "per danni de la voglia alte stiala;\r\n",
      "\r\n",
      "però che la notte il secondo imprenta\r\n",
      "e ’l papal de la scaleata scala;\r\n",
      "ed el prima avea pensava carca,\r\n",
      "che ballella sì perch’ io \n",
      "\n",
      "________________________________________________________________________________\n",
      "\n",
      "Run time: 3.5490386486053467\n"
     ]
    }
   ],
   "source": [
    "start = time.time()\n",
    "states = None\n",
    "next_char = tf.constant(['CANTO:'])\n",
    "result = [next_char]\n",
    "\n",
    "for n in range(1000):\n",
    "    next_char, states = one_step_model.generate_one_step(next_char, states=states)\n",
    "    result.append(next_char)\n",
    "\n",
    "result = tf.strings.join(result)\n",
    "end = time.time()\n",
    "print(result[0].numpy().decode('utf-8'), '\\n\\n' + '_'*80)\n",
    "print('\\nRun time:', end - start)"
   ]
  },
  {
   "cell_type": "code",
   "execution_count": null,
   "metadata": {},
   "outputs": [],
   "source": []
  }
 ],
 "metadata": {
  "kernelspec": {
   "display_name": "Python 3 (ipykernel)",
   "language": "python",
   "name": "python3"
  },
  "language_info": {
   "codemirror_mode": {
    "name": "ipython",
    "version": 3
   },
   "file_extension": ".py",
   "mimetype": "text/x-python",
   "name": "python",
   "nbconvert_exporter": "python",
   "pygments_lexer": "ipython3",
   "version": "3.8.11"
  }
 },
 "nbformat": 4,
 "nbformat_minor": 1
}