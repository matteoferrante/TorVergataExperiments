{
 "cells": [
  {
   "cell_type": "markdown",
   "id": "818c0c48",
   "metadata": {},
   "source": [
    "## Simple Architecture for translate ita to eng\n",
    "\n",
    "Add the sampling and masking in traduction phase.\n",
    "\n",
    "Train longer"
   ]
  },
  {
   "cell_type": "code",
   "execution_count": 1,
   "id": "9260859f",
   "metadata": {},
   "outputs": [],
   "source": [
    "import numpy as np\n",
    "\n",
    "import typing\n",
    "from typing import Any, Tuple\n",
    "\n",
    "import tensorflow as tf\n",
    "from tensorflow.keras.layers.experimental import preprocessing\n",
    "from tensorflow.keras.layers import *\n",
    "from tensorflow.keras.models import *\n",
    "import tensorflow_text as tf_text\n",
    "\n",
    "import matplotlib.pyplot as plt\n",
    "import matplotlib.ticker as ticker\n",
    "\n",
    "from tensorflow.keras.utils import plot_model\n"
   ]
  },
  {
   "cell_type": "code",
   "execution_count": 2,
   "id": "27a3da27",
   "metadata": {},
   "outputs": [],
   "source": [
    "path=\"data/ita.txt\""
   ]
  },
  {
   "cell_type": "code",
   "execution_count": 3,
   "id": "9789a1d6",
   "metadata": {},
   "outputs": [],
   "source": [
    "def load_data(path):\n",
    "    \"\"\"\n",
    "    load the files and return coupled list of input target\n",
    "    \"\"\"\n",
    "    with open(path, \"r\",encoding=\"utf-8\") as f:\n",
    "        text =f.read() \n",
    "\n",
    "    lines = text.splitlines()\n",
    "    pairs = [line.split('\\t') for line in lines]\n",
    "\n",
    "    inp = [inp for targ, inp,attr in pairs]\n",
    "    targ = [targ for targ, inp,attr in pairs]\n",
    "\n",
    "    return targ, inp"
   ]
  },
  {
   "cell_type": "code",
   "execution_count": 4,
   "id": "13f6c286",
   "metadata": {},
   "outputs": [],
   "source": [
    "targ, inp = load_data(path)"
   ]
  },
  {
   "cell_type": "code",
   "execution_count": 5,
   "id": "822de737",
   "metadata": {},
   "outputs": [],
   "source": [
    "BUFFER_SIZE = len(inp)\n",
    "BATCH_SIZE = 64\n",
    "\n",
    "dataset = tf.data.Dataset.from_tensor_slices((inp, targ)).shuffle(BUFFER_SIZE)\n",
    "dataset = dataset.batch(BATCH_SIZE)"
   ]
  },
  {
   "cell_type": "code",
   "execution_count": 6,
   "id": "8ec7a31a",
   "metadata": {},
   "outputs": [
    {
     "name": "stdout",
     "output_type": "stream",
     "text": [
      "tf.Tensor(\n",
      "[b'Ha chiesto dei consigli al suo professore.'\n",
      " b'Quale delle due preferisci?' b'Dove sono le sue chiavi della macchina?'\n",
      " b'Tom ha molto rispetto per te.' b'Io voglio andare in America.'\n",
      " b'Smettetela di fare i lecchini con il professore.'\n",
      " b\"Tom non ha sicuramente bisogno dell'aiuto di Mary.\"\n",
      " b\"\\xc3\\x88 stato bocciato all'esame di ingresso.\"\n",
      " b'Dovremmo dire a Tom che siamo troppo impegnate.'\n",
      " b'A te piacciono le ragazze, vero?' b'Tom mi ha insultata.'\n",
      " b\"Ci sono molti fiumi su quell'isola.\"\n",
      " b\"A me va di mangiare un po' di pizza stasera.\"\n",
      " b\"Io l'ho dato al ragazzino.\"\n",
      " b'Tom mi disse che non si stava sentendo molto bene.'\n",
      " b'I genitori di Tom vennero a casa presto.' b'Cosa farete stasera?'\n",
      " b'Io sono una vecchia amica.' b'Tom non lo deve decidere adesso.'\n",
      " b\"Mi prendo sempre il raffreddore d'inverno.\"\n",
      " b'Non te ne preoccupare ora.' b'Tom sta dormendo adesso.'\n",
      " b'Tom ha una lunga coda di cavallo.' b'Perch\\xc3\\xa9 non stai qui?'\n",
      " b\"Voglio qualcos'altro da leggere.\" b'\\xc3\\x88 nera?' b'Voi la sapete.'\n",
      " b'Il tempo \\xc3\\xa8 stato freddo per tre settimane.'\n",
      " b'Proviamone un altro.' b'Tom ha suonato il clacson.'\n",
      " b'Spero che Tom stesse solamente scherzando.' b'Tom \\xc3\\xa8 taccagno.'\n",
      " b'Sareste cos\\xc3\\xac gentili da prestarmi il vostro libro?'\n",
      " b'Avete veramente orecchio per la musica.'\n",
      " b\"L'ho nascosto sotto il materasso.\"\n",
      " b'Io ho gi\\xc3\\xa0 iniziato a leggere quel libro.'\n",
      " b'A me piace quella gonna.' b'Mi dia un caff\\xc3\\xa8, per piacere.'\n",
      " b'Questo \\xc3\\xa8 un errore.' b'Tom \\xc3\\xa8 un festaiolo.'\n",
      " b'Tu hai trovato qualcosa?' b'\\xc3\\x88 un medico e anche un romanziere.'\n",
      " b'Ti piace il porridge di mais?' b'Sembra ricca.'\n",
      " b'Tom \\xc3\\xa8 forte, per\\xc3\\xb2 Mary no.' b'Io vivo in questo hotel.'\n",
      " b\"L'uomo che avete visto nel mio ufficio ieri viene dal Belgio.\"\n",
      " b'Tom trascorse molto tempo a Boston.'\n",
      " b'Tom \\xc3\\xa8 molto diverso ora, vero?' b'Pieghi la coperta.'\n",
      " b'Io vorrei diventare un famoso giocatore di calcio.'\n",
      " b'Penso che Tom sia ancora scettico.' b'Ero molto stanca oggi.'\n",
      " b'Ci vorranno dei mesi.' b'Mi fido di te.'\n",
      " b'Chi vi ha detto di contattarmi?' b\"Sapevo cos'era.\"\n",
      " b'Oggi ho studiato cinese per due ore.' b'Cosa volevi chiedermi?'\n",
      " b'Tutti si ammalarono.' b'Loro sono arrivati a Parigi alla stessa ora.'\n",
      " b'Non siamo salite sul treno.' b'Voi chi conoscete l\\xc3\\xac?'\n",
      " b'Tom ha vinto il primo round.'], shape=(64,), dtype=string)\n",
      "tf.Tensor(\n",
      "[b'He asked his teacher for advice.' b'Which two do you like the best?'\n",
      " b'Where are your car keys?' b'Tom has a lot of respect for you.'\n",
      " b'I want to go to America.' b'Stop sucking up to the teacher.'\n",
      " b\"Tom certainly doesn't need Mary's help.\"\n",
      " b'He failed the entrance exam.' b\"We should tell Tom we're too busy.\"\n",
      " b\"You like girls, don't you?\" b'Tom insulted me.'\n",
      " b'There are many rivers on that island.'\n",
      " b'I feel like having some pizza tonight.' b'I gave it to the little boy.'\n",
      " b\"Tom told me he wasn't feeling very well.\"\n",
      " b\"Tom's parents came home early.\" b'What are you going to do tonight?'\n",
      " b\"I'm an old friend.\" b\"Tom doesn't need to decide that now.\"\n",
      " b'I always catch colds in the winter.' b\"Don't worry about that now.\"\n",
      " b'Tom is sleeping now.' b'Tom has a long ponytail.'\n",
      " b\"Why don't you stay there?\" b'I want something else to read.'\n",
      " b'Is it black?' b'You know it.'\n",
      " b'The weather stayed cold for three weeks.' b\"Let's try another one.\"\n",
      " b'Tom beeped the horn.' b'I hope Tom was just joking.' b'Tom is greedy.'\n",
      " b'Would you be so kind as to lend me your book?'\n",
      " b'You really have an ear for music.' b'I hid it under the mattress.'\n",
      " b\"I've already started reading that book.\" b'I like that skirt.'\n",
      " b'Give me a coffee, please.' b'This is a mistake.' b'Tom is a party boy.'\n",
      " b'Did you find something?' b'He is a doctor and also a novelist.'\n",
      " b'Do you like grits?' b'She seems rich.'\n",
      " b\"Tom is strong, but Mary isn't.\" b'I live in this hotel.'\n",
      " b'The man you saw in my office yesterday is from Belgium.'\n",
      " b'Tom spent a lot of time in Boston.'\n",
      " b\"Tom is very different now, isn't he?\" b'Fold the blanket.'\n",
      " b'I would like to become a famous soccer player.'\n",
      " b'I think Tom is still skeptical.' b'I was very tired today.'\n",
      " b\"It'll take months.\" b'I trust you.' b'Who told you to contact me?'\n",
      " b'I knew what it was.' b'Today I studied Chinese for two hours.'\n",
      " b'What did you want to ask me?' b'Everyone got sick.'\n",
      " b'They arrived in Paris at the same time.' b\"We didn't get on the train.\"\n",
      " b'Who do you know there?' b'Tom won the first round.'], shape=(64,), dtype=string)\n"
     ]
    }
   ],
   "source": [
    "## esempio\n",
    "\n",
    "for x,y in dataset:\n",
    "    break\n",
    "    \n",
    "print(x)\n",
    "print(y)"
   ]
  },
  {
   "cell_type": "markdown",
   "id": "0f69e35d",
   "metadata": {},
   "source": [
    "## Normalization function\n",
    "Remove special chars, lower the inpu, separate punctuation, add \"[START]\" and \"[END]\" token"
   ]
  },
  {
   "cell_type": "code",
   "execution_count": 7,
   "id": "d794989e",
   "metadata": {},
   "outputs": [],
   "source": [
    "def tf_lower_and_split_punct(text):\n",
    "    # Split accecented characters.\n",
    "    text = tf_text.normalize_utf8(text, 'NFKD')\n",
    "    text = tf.strings.lower(text)\n",
    "    # Keep space, a to z, and select punctuation.\n",
    "    text = tf.strings.regex_replace(text, '[^ a-z.?!,]', '')\n",
    "    # Add spaces around punctuation.\n",
    "    text = tf.strings.regex_replace(text, '[.?!,]', r' \\0 ')\n",
    "    # Strip whitespace.\n",
    "    text = tf.strings.strip(text)\n",
    "\n",
    "    text = tf.strings.join(['[START]', text, '[END]'], separator=' ')\n",
    "    return text"
   ]
  },
  {
   "cell_type": "markdown",
   "id": "1e331d7a",
   "metadata": {},
   "source": [
    "## Text Vectorization\n",
    "For both input and output (target)\n",
    "\n",
    "With the vocabulary is possible to revert the indices and get back the strings"
   ]
  },
  {
   "cell_type": "code",
   "execution_count": 8,
   "id": "eeaf2202",
   "metadata": {},
   "outputs": [],
   "source": [
    "max_vocab_size = 5000\n",
    "output_sequence_length=64\n",
    "input_text_processor = TextVectorization(\n",
    "    standardize=tf_lower_and_split_punct,\n",
    "    max_tokens=max_vocab_size,output_sequence_length=output_sequence_length)"
   ]
  },
  {
   "cell_type": "code",
   "execution_count": 9,
   "id": "af447f36",
   "metadata": {},
   "outputs": [],
   "source": [
    "input_text_processor.adapt(inp)\n",
    "\n"
   ]
  },
  {
   "cell_type": "code",
   "execution_count": 10,
   "id": "4f313acd",
   "metadata": {},
   "outputs": [
    {
     "data": {
      "text/plain": [
       "['', '[UNK]', '[START]', '[END]', '.', 'tom', '?', 'non', 'e', 'di']"
      ]
     },
     "execution_count": 10,
     "metadata": {},
     "output_type": "execute_result"
    }
   ],
   "source": [
    "# Here are the first 10 words from the vocabulary:\n",
    "inp_vocabulary=np.array(input_text_processor.get_vocabulary())\n",
    "input_text_processor.get_vocabulary()[:10]"
   ]
  },
  {
   "cell_type": "code",
   "execution_count": 11,
   "id": "e1a7ce5b",
   "metadata": {},
   "outputs": [],
   "source": [
    "output_text_processor = TextVectorization(\n",
    "    standardize=tf_lower_and_split_punct,\n",
    "    max_tokens=max_vocab_size,output_sequence_length=output_sequence_length)\n",
    "\n",
    "output_text_processor.adapt(targ)\n",
    "output_text_processor.get_vocabulary()[:10]\n",
    "out_vocabulary=output_text_processor.get_vocabulary()"
   ]
  },
  {
   "cell_type": "code",
   "execution_count": 12,
   "id": "777295c6",
   "metadata": {},
   "outputs": [
    {
     "name": "stdout",
     "output_type": "stream",
     "text": [
      "tf.Tensor(b'Ha chiesto dei consigli al suo professore.', shape=(), dtype=string)\n",
      "['[START]' 'ha' 'chiesto' 'dei' 'consigli' 'al' 'suo' 'professore' '.'\n",
      " '[END]' '' '' '' '' '' '' '' '' '' '' '' '' '' '' '' '' '' '' '' '' '' ''\n",
      " '' '' '' '' '' '' '' '' '' '' '' '' '' '' '' '' '' '' '' '' '' '' '' ''\n",
      " '' '' '' '' '' '' '' '']\n"
     ]
    },
    {
     "name": "stderr",
     "output_type": "stream",
     "text": [
      "C:\\Users\\matte\\AppData\\Local\\Temp/ipykernel_5560/2358412884.py:3: FutureWarning: Using a non-tuple sequence for multidimensional indexing is deprecated; use `arr[tuple(seq)]` instead of `arr[seq]`. In the future this will be interpreted as an array index, `arr[np.array(seq)]`, which will result either in an error or a different result.\n",
      "  print(inp_vocabulary[[xx]])\n"
     ]
    }
   ],
   "source": [
    "xx=input_text_processor(x[0])\n",
    "print(x[0])\n",
    "print(inp_vocabulary[[xx]])\n"
   ]
  },
  {
   "cell_type": "markdown",
   "id": "dabde5ef",
   "metadata": {},
   "source": [
    "## Model\n",
    "\n",
    "Simple architecture \n",
    "\n",
    "Encoder is Input -> Embedding -> Q,K,V matrices ->  Attention\n",
    "\n",
    "Decoder is Input of the previuos state -> Dense -> Softmax\n",
    "\n",
    "I need to subclass the keras.Model because I need to convert also the outputs to compute the loss function"
   ]
  },
  {
   "cell_type": "code",
   "execution_count": 13,
   "id": "a9445859",
   "metadata": {},
   "outputs": [
    {
     "name": "stdout",
     "output_type": "stream",
     "text": [
      "Model: \"Encoder\"\n",
      "__________________________________________________________________________________________________\n",
      " Layer (type)                   Output Shape         Param #     Connected to                     \n",
      "==================================================================================================\n",
      " input_1 (InputLayer)           [(None, 1)]          0           []                               \n",
      "                                                                                                  \n",
      " vectorizer (Sequential)        (None, 64, 100)      10000       ['input_1[0][0]']                \n",
      "                                                                                                  \n",
      " query (Dense)                  (None, 64, 1000)     101000      ['vectorizer[0][0]']             \n",
      "                                                                                                  \n",
      " key (Dense)                    (None, 64, 1000)     101000      ['vectorizer[0][0]']             \n",
      "                                                                                                  \n",
      " value (Dense)                  (None, 64, 1000)     101000      ['vectorizer[0][0]']             \n",
      "                                                                                                  \n",
      " attention (Attention)          (None, 64, 1000)     0           ['query[0][0]',                  \n",
      "                                                                  'key[0][0]',                    \n",
      "                                                                  'value[0][0]']                  \n",
      "                                                                                                  \n",
      "==================================================================================================\n",
      "Total params: 313,000\n",
      "Trainable params: 313,000\n",
      "Non-trainable params: 0\n",
      "__________________________________________________________________________________________________\n"
     ]
    },
    {
     "data": {
      "image/png": "[encoded data removed]",
      "text/plain": [
       "<IPython.core.display.Image object>"
      ]
     },
     "execution_count": 13,
     "metadata": {},
     "output_type": "execute_result"
    }
   ],
   "source": [
    "## encoder\n",
    "vectorize=Sequential(name=\"vectorizer\")\n",
    "vectorize.add(input_text_processor)\n",
    "vectorize.add(Embedding(100,100))\n",
    "\n",
    "input=Input(shape=(1,),dtype=tf.string)\n",
    "model=vectorize(input)\n",
    "query=Dense(1000,name=\"query\")(model)\n",
    "key=Dense(1000,name=\"key\")(model)\n",
    "value=Dense(1000,name=\"value\")(model)\n",
    "attention=Attention()([query,key,value])\n",
    "\n",
    "model=Model(input,attention,name=\"Encoder\")\n",
    "\n",
    "model.summary()\n",
    "plot_model(\n",
    "    model, to_file='model.png', show_shapes=True, show_dtype=False,\n",
    "    show_layer_names=True, rankdir='TB', expand_nested=False, dpi=96,\n",
    ")"
   ]
  },
  {
   "cell_type": "code",
   "execution_count": 14,
   "id": "7ebf9c88",
   "metadata": {},
   "outputs": [],
   "source": [
    "## decoder -> to take it easy it's just a two dense layer with vocab_dim\n",
    "\n",
    "input=Input(shape=(output_sequence_length,1000))\n",
    "d=Dense(1000)(input)\n",
    "d=Activation(\"relu\")(d)\n",
    "d=Dense(max_vocab_size)(d)\n",
    "d=Activation(\"softmax\")(d)\n",
    "\n",
    "decoder=Model(input,d,name=\"decoder\")"
   ]
  },
  {
   "cell_type": "code",
   "execution_count": 15,
   "id": "e4b5982d",
   "metadata": {},
   "outputs": [],
   "source": [
    "class MaskedLoss(tf.keras.losses.Loss):\n",
    "    def __init__(self):\n",
    "        self.name = 'masked_loss'\n",
    "        self.loss = tf.keras.losses.SparseCategoricalCrossentropy(\n",
    "            from_logits=True, reduction='none')\n",
    "\n",
    "    def __call__(self, y_true, y_pred):\n",
    "            \n",
    "        # Calculate the loss for each item in the batch.\n",
    "        loss = self.loss(y_true, y_pred)\n",
    "\n",
    "        # Mask off the losses on padding.\n",
    "        mask = tf.cast(y_true != 0, tf.float32)\n",
    "        loss *= mask\n",
    "\n",
    "        # Return the total.\n",
    "        return tf.reduce_sum(loss)"
   ]
  },
  {
   "cell_type": "code",
   "execution_count": 24,
   "id": "b36231cc",
   "metadata": {},
   "outputs": [],
   "source": [
    "###\n",
    "class Translator(tf.keras.Model):\n",
    "    def __init__(self,input_text_processor,output_text_processor,encoder,decoder):\n",
    "        super().__init__()\n",
    "        \n",
    "        self.encoder=encoder\n",
    "        self.decoder=decoder\n",
    "        self.input_text_processor=input_text_processor\n",
    "        self.output_text_processor=output_text_processor\n",
    "        \n",
    "        \n",
    "        \n",
    "        \n",
    "    def _preprocess(self, input_text, target_text):\n",
    "\n",
    "\n",
    "        # Convert the text to token IDs\n",
    "        input_tokens = self.input_text_processor(input_text)\n",
    "        target_tokens = self.output_text_processor(target_text)\n",
    "\n",
    "\n",
    "        # Convert IDs to masks.\n",
    "        input_mask = input_tokens != 0\n",
    "\n",
    "\n",
    "        target_mask = target_tokens != 0\n",
    "\n",
    "        return input_tokens, input_mask, target_tokens, target_mask\n",
    "\n",
    "\n",
    "    def train_step(self,inputs):\n",
    "        input_text, target_text = inputs\n",
    "        \n",
    "        (input_tokens, input_mask,target_tokens, target_mask) = self._preprocess(input_text, target_text)\n",
    "        max_target_length = tf.shape(target_tokens)[1]\n",
    "        \n",
    "        with tf.GradientTape() as tape:\n",
    "            encoded=self.encoder(input_text)\n",
    "            \n",
    "            #basic \n",
    "            decoded=self.decoder(encoded)\n",
    "            \n",
    "            loss=self.loss(target_tokens,decoded)\n",
    "        gradients = tape.gradient(loss, self.trainable_weights)\n",
    "        self.optimizer.apply_gradients(zip(gradients,self.trainable_weights))\n",
    "        \n",
    "        return {\"loss\":loss}\n",
    "    \n",
    "    def call(self,inputs):\n",
    "        input_text, target_text = inputs\n",
    "        \n",
    "        (input_tokens, input_mask,target_tokens, target_mask) = self._preprocess(input_text, target_text)\n",
    "        max_target_length = tf.shape(target_tokens)[1]\n",
    "        encoded=self.encoder(input_text)\n",
    "        decoded=self.decoder(encoded)\n",
    "        \n",
    "        return decoded\n",
    "    \n",
    "    def translate(self,inputs):\n",
    "        \n",
    "        ## campionare!\n",
    "        \n",
    "        encoded=self.encoder(inputs)\n",
    "        decoded=self.decoder(encoded)\n",
    "        #print(f\"DEBUG {decoded.shape}\")\n",
    "        tran_list=[]\n",
    "        out_list=[]\n",
    "        for b in decoded:\n",
    "            for token in b:\n",
    "                tran_list.append(self.output_text_processor.get_vocabulary()[np.argmax(token)])\n",
    "                output=\" \".join(tran_list)\n",
    "            out_list.append(output)\n",
    "        return out_list"
   ]
  },
  {
   "cell_type": "code",
   "execution_count": 25,
   "id": "980f6ed2",
   "metadata": {},
   "outputs": [],
   "source": [
    "translator = Translator(input_text_processor,output_text_processor,model,decoder)\n",
    "\n",
    "# Configure the loss and optimizer\n",
    "translator.compile(\n",
    "    optimizer=tf.optimizers.Adam(),\n",
    "    loss=MaskedLoss(),\n",
    ")"
   ]
  },
  {
   "cell_type": "code",
   "execution_count": 18,
   "id": "10725642",
   "metadata": {},
   "outputs": [
    {
     "name": "stdout",
     "output_type": "stream",
     "text": [
      "Epoch 1/3\n"
     ]
    },
    {
     "name": "stderr",
     "output_type": "stream",
     "text": [
      "c:\\users\\matte\\anaconda3\\envs\\ai_env\\lib\\site-packages\\tensorflow\\python\\util\\dispatch.py:1096: UserWarning: \"`sparse_categorical_crossentropy` received `from_logits=True`, but the `output` argument was produced by a sigmoid or softmax activation and thus does not represent logits. Was this intended?\"\n",
      "  return dispatch_target(*args, **kwargs)\n"
     ]
    },
    {
     "name": "stdout",
     "output_type": "stream",
     "text": [
      "5501/5501 [==============================] - 271s 49ms/step - loss: 1915.6654\n",
      "Epoch 2/3\n",
      "5501/5501 [==============================] - 308s 56ms/step - loss: 1601.1110\n",
      "Epoch 3/3\n",
      "5501/5501 [==============================] - 312s 57ms/step - loss: 1504.5315\n"
     ]
    },
    {
     "data": {
      "text/plain": [
       "<keras.callbacks.History at 0x216444bca30>"
      ]
     },
     "execution_count": 18,
     "metadata": {},
     "output_type": "execute_result"
    }
   ],
   "source": [
    "translator.fit(dataset,epochs=3)\n",
    "#translator.load_weights(\"prova_traduzione.tf\")"
   ]
  },
  {
   "cell_type": "code",
   "execution_count": 19,
   "id": "4ab7c353",
   "metadata": {},
   "outputs": [],
   "source": [
    "translator.save_weights(\"prova_traduzione.tf\",save_format=\"tf\")\n",
    "translator.load_weights(\"prova_traduzione.tf\")"
   ]
  },
  {
   "cell_type": "code",
   "execution_count": 27,
   "id": "ce5dabee",
   "metadata": {},
   "outputs": [
    {
     "data": {
      "text/plain": [
       "['[START] i the the and the the . . [END] [END] [END] [END] [END] [END] [END] [END] [END] [END] [END] [END] [END] [END] [END] [END] [END] [END] [END] [END] [END] [END] [END] [END] [END] [END] [END] [END] [END] [END] [END] [END] [END] [END] [END] [END] [END] [END] [END] [END] [END] [END] [END] [END] [END] [END] [END] [END] [END] [END] [END] [END] [END] [END] [END]']"
      ]
     },
     "execution_count": 27,
     "metadata": {},
     "output_type": "execute_result"
    }
   ],
   "source": [
    "#decifrate\n",
    "\n",
    "frase=tf.constant(\"Ho molta fame e fa freddo.\")\n",
    "\n",
    "y=translator.translate(tf.expand_dims(frase,0))\n",
    "\n",
    "y"
   ]
  },
  {
   "cell_type": "code",
   "execution_count": null,
   "id": "9eae8cfc",
   "metadata": {},
   "outputs": [],
   "source": [
    "len(y)"
   ]
  },
  {
   "cell_type": "code",
   "execution_count": null,
   "id": "fc99d9ca",
   "metadata": {},
   "outputs": [],
   "source": []
  }
 ],
 "metadata": {
  "kernelspec": {
   "display_name": "Python 3 (ipykernel)",
   "language": "python",
   "name": "python3"
  },
  "language_info": {
   "codemirror_mode": {
    "name": "ipython",
    "version": 3
   },
   "file_extension": ".py",
   "mimetype": "text/x-python",
   "name": "python",
   "nbconvert_exporter": "python",
   "pygments_lexer": "ipython3",
   "version": "3.8.11"
  }
 },
 "nbformat": 4,
 "nbformat_minor": 5
}
