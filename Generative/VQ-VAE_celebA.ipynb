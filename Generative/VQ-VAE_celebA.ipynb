{
 "cells": [
  {
   "cell_type": "markdown",
   "metadata": {
    "collapsed": true
   },
   "source": [
    "# VQ VAE on CelebA\n",
    "Training model and PixelCNN Sampler\n",
    "\n",
    "Phase 1: Train VQVAE\n",
    "\n",
    "Phase 2: Train PixelCNN\n",
    "\n",
    "Phase 3: Sample images\n",
    "\n",
    "\n",
    "Note: After some attemps I see that the model produce images a little bit blurry to i chose to make it deeper\n",
    "\n",
    "## Phase 1: Train The variational Autoencoder"
   ]
  },
  {
   "cell_type": "code",
   "execution_count": 54,
   "metadata": {},
   "outputs": [],
   "source": [
    "import itertools\n",
    "import os\n",
    "import sys\n",
    "\n",
    "from classes.VQVAE import VQVAE\n",
    "from classes.PixelCNN import PixelCNN,TfDistPixelCNN\n",
    "from utils.callbacks import WandbImagesVQVAE, Save_VQVAE_Weights, Save_PixelCNN_Weights\n",
    "from utils.functions import  map_vqvae_weights,pixelcnn_sample_vqvae\n",
    "from imutils import build_montages\n",
    "\n",
    "\n",
    "import tensorflow as tf\n",
    "from tensorflow import keras\n",
    "import numpy as np\n",
    "import wandb\n",
    "from wandb.keras import WandbCallback\n",
    "from tensorflow.data import AUTOTUNE\n",
    "\n",
    "import argparse\n",
    "from os.path import join as opj\n",
    "from imutils import paths\n",
    "import tqdm\n",
    "import glob\n",
    "import json"
   ]
  },
  {
   "cell_type": "code",
   "execution_count": 5,
   "metadata": {},
   "outputs": [
    {
     "name": "stdout",
     "output_type": "stream",
     "text": [
      "0\n"
     ]
    }
   ],
   "source": [
    "#set the first GPU\n",
    "os.environ[\"CUDA_VISIBLE_DEVICES\"]=\"0\"\n",
    "\n",
    "print(os.environ.get(\"CUDA_VISIBLE_DEVICES\"))"
   ]
  },
  {
   "cell_type": "code",
   "execution_count": 6,
   "metadata": {},
   "outputs": [
    {
     "name": "stderr",
     "output_type": "stream",
     "text": [
      "Failed to detect the name of this notebook, you can set it manually with the WANDB_NOTEBOOK_NAME environment variable to enable code saving.\n",
      "\u001b[34m\u001b[1mwandb\u001b[0m: Currently logged in as: \u001b[33mmatteoferrante\u001b[0m (use `wandb login --relogin` to force relogin)\n"
     ]
    }
   ],
   "source": [
    "wandb.login()\n",
    "#phase=\"VQ_VAE_Training\"          #change\n",
    "phase=\"PixelCNN_Training\"\n",
    "\n",
    "config={\"dataset\":\"celebA\", \"type\":\"VQ-VAE\",\"phase\":phase}\n",
    "\n",
    "images_dir=r\"C:\\Users\\matte\\Dataset\\tor_vergata\\Dataset\\Img\\img_align_celeba\" #local\n",
    "images_dir=r\"/home/matteo/NeuroGEN/Dataset/Img/img_align_celeba\"\n",
    "\n"
   ]
  },
  {
   "cell_type": "code",
   "execution_count": 7,
   "metadata": {},
   "outputs": [],
   "source": [
    "BS = 64\n",
    "EPOCHS=40\n",
    "INIT_LR=1e-4\n",
    "\n",
    "config[\"BS\"]=BS\n",
    "config[\"EPOCHS\"]=EPOCHS\n",
    "config[\"INIT_LR\"]=INIT_LR"
   ]
  },
  {
   "cell_type": "markdown",
   "metadata": {},
   "source": [
    "## Dataloaders"
   ]
  },
  {
   "cell_type": "code",
   "execution_count": 8,
   "metadata": {},
   "outputs": [],
   "source": [
    "def load_images(imagePath):\n",
    "    # read the image from disk, decode it, resize it, and scale the\n",
    "    # pixels intensities to the range [0, 1]\n",
    "    image = tf.io.read_file(imagePath)\n",
    "    image = tf.image.decode_jpeg(image, channels=3)\n",
    "    image = tf.image.resize(image, (128, 128)) / 255.0\n",
    "\n",
    "    #eventually load other information like attributes here\n",
    "    \n",
    "    # return the image and the extra info\n",
    "    \n",
    "    \n",
    "    return image"
   ]
  },
  {
   "cell_type": "code",
   "execution_count": 9,
   "metadata": {},
   "outputs": [
    {
     "name": "stdout",
     "output_type": "stream",
     "text": [
      "[INFO] loading image paths...\n",
      "[TRAINING]\t 138545\n",
      "[VALIDATION]\t 17318\n",
      "[TEST]\t\t 17319\n"
     ]
    }
   ],
   "source": [
    "print(\"[INFO] loading image paths...\")\n",
    "imagePaths = list(paths.list_images(images_dir))\n",
    "\n",
    "\n",
    "train_len=int(0.8*len(imagePaths))\n",
    "val_len=int(0.1*len(imagePaths))\n",
    "test_len=int(0.1*len(imagePaths))\n",
    "\n",
    "train_imgs=imagePaths[:train_len]                                #      80% for training\n",
    "val_imgs=imagePaths[train_len:train_len+val_len]                 #      10% for validation\n",
    "test_imgs=imagePaths[train_len+val_len:]                         #      10% for testing\n",
    "\n",
    "print(f\"[TRAINING]\\t {len(train_imgs)}\\n[VALIDATION]\\t {len(val_imgs)}\\n[TEST]\\t\\t {len(test_imgs)}\")"
   ]
  },
  {
   "cell_type": "code",
   "execution_count": 10,
   "metadata": {},
   "outputs": [],
   "source": [
    "#TRAINING \n",
    "\n",
    "train_dataset = tf.data.Dataset.from_tensor_slices(train_imgs)\n",
    "train_dataset = (train_dataset\n",
    "    .shuffle(1024)\n",
    "    .map(load_images, num_parallel_calls=AUTOTUNE)\n",
    "    .cache()\n",
    "    .repeat()\n",
    "    .batch(BS)\n",
    "    .prefetch(AUTOTUNE)\n",
    ")\n",
    "\n",
    "ts=len(train_imgs)//BS\n",
    "\n",
    "##VALIDATION\n",
    "\n",
    "val_dataset = tf.data.Dataset.from_tensor_slices(val_imgs)\n",
    "val_dataset = (val_dataset\n",
    "    .shuffle(1024)\n",
    "    .map(load_images, num_parallel_calls=AUTOTUNE)\n",
    "    .cache()\n",
    "    .repeat()\n",
    "    .batch(BS)\n",
    "    .prefetch(AUTOTUNE)\n",
    ")\n",
    "\n",
    "vs=len(val_imgs)//BS\n",
    "\n",
    "## TEST\n",
    "\n",
    "test_dataset = tf.data.Dataset.from_tensor_slices(test_imgs)\n",
    "test_dataset = (test_dataset\n",
    "    .shuffle(1024)\n",
    "    .map(load_images, num_parallel_calls=AUTOTUNE)\n",
    "    .cache()\n",
    "    .batch(BS)\n",
    "    .prefetch(AUTOTUNE)\n",
    ")"
   ]
  },
  {
   "cell_type": "markdown",
   "metadata": {},
   "source": [
    "## Model Definition"
   ]
  },
  {
   "cell_type": "code",
   "execution_count": 11,
   "metadata": {},
   "outputs": [
    {
     "name": "stdout",
     "output_type": "stream",
     "text": [
      "[INFO] Training VQ_VAE Model\n",
      "Model: \"encoder\"\n",
      "_________________________________________________________________\n",
      "Layer (type)                 Output Shape              Param #   \n",
      "=================================================================\n",
      "image_input (InputLayer)     [(None, 128, 128, 3)]     0         \n",
      "_________________________________________________________________\n",
      "conv_res_block (ConvResBlock (None, 64, 64, 64)        80320     \n",
      "_________________________________________________________________\n",
      "conv_res_block_1 (ConvResBlo (None, 32, 32, 128)       386560    \n",
      "_________________________________________________________________\n",
      "conv_res_block_2 (ConvResBlo (None, 16, 16, 256)       1543168   \n",
      "_________________________________________________________________\n",
      "conv_res_block_3 (ConvResBlo (None, 8, 8, 256)         4334080   \n",
      "_________________________________________________________________\n",
      "conv2d_34 (Conv2D)           (None, 8, 8, 512)         131584    \n",
      "=================================================================\n",
      "Total params: 6,475,712\n",
      "Trainable params: 6,470,848\n",
      "Non-trainable params: 4,864\n",
      "_________________________________________________________________\n",
      "None\n",
      "Model: \"decoder\"\n",
      "_________________________________________________________________\n",
      "Layer (type)                 Output Shape              Param #   \n",
      "=================================================================\n",
      "latent_input (InputLayer)    [(None, 8, 8, 512)]       0         \n",
      "_________________________________________________________________\n",
      "conv_transpose_res_block (Co (None, 16, 16, 256)       4923904   \n",
      "_________________________________________________________________\n",
      "conv_transpose_res_block_1 ( (None, 32, 32, 256)       1838080   \n",
      "_________________________________________________________________\n",
      "conv_transpose_res_block_2 ( (None, 64, 64, 128)       607744    \n",
      "_________________________________________________________________\n",
      "conv_transpose_res_block_3 ( (None, 128, 128, 64)      152320    \n",
      "_________________________________________________________________\n",
      "conv2d_transpose_4 (Conv2DTr (None, 128, 128, 3)       1731      \n",
      "=================================================================\n",
      "Total params: 7,523,779\n",
      "Trainable params: 7,518,915\n",
      "Non-trainable params: 4,864\n",
      "_________________________________________________________________\n",
      "None\n"
     ]
    }
   ],
   "source": [
    "print(f\"[INFO] Training VQ_VAE Model\")\n",
    "\n",
    "encoder_architecture=[(1,64),(1,128),(1,256),(3,256)]\n",
    "decoder_architecture=[(3,256),(1,256),(1,128),(1,64)]\n",
    "input_shape=(128,128,3)\n",
    "latent_dim=512\n",
    "num_embeddings=256\n",
    "\n",
    "\n",
    "config[\"encoder_architecture\"]=encoder_architecture\n",
    "config[\"decoder_architecture\"]=decoder_architecture\n",
    "config[\"latent_dim\"]=latent_dim\n",
    "config[\"num_embeddings\"]=num_embeddings\n",
    "config[\"input_shape\"]=input_shape\n",
    "\n",
    "g=VQVAE(input_shape,latent_dim=latent_dim,num_embeddings=num_embeddings,train_variance=4,encoder_architecture=encoder_architecture,decoder_architecture=decoder_architecture)\n",
    "\n",
    "print(g.encoder.summary())\n",
    "\n",
    "print(g.decoder.summary())\n"
   ]
  },
  {
   "cell_type": "markdown",
   "metadata": {},
   "source": [
    "# Phase 1: Train the VQ-VAE model"
   ]
  },
  {
   "cell_type": "markdown",
   "metadata": {},
   "source": [
    "## Callbacks"
   ]
  },
  {
   "cell_type": "code",
   "execution_count": 19,
   "metadata": {},
   "outputs": [
    {
     "data": {
      "text/html": [
       "Finishing last run (ID:3oalngrd) before initializing another..."
      ],
      "text/plain": [
       "<IPython.core.display.HTML object>"
      ]
     },
     "metadata": {},
     "output_type": "display_data"
    },
    {
     "data": {
      "text/html": [
       "<br/>Waiting for W&B process to finish, PID 2779841<br/>Program ended successfully."
      ],
      "text/plain": [
       "<IPython.core.display.HTML object>"
      ]
     },
     "metadata": {},
     "output_type": "display_data"
    },
    {
     "data": {
      "application/vnd.jupyter.widget-view+json": {
       "model_id": "",
       "version_major": 2,
       "version_minor": 0
      },
      "text/plain": [
       "VBox(children=(Label(value=' 0.06MB of 0.06MB uploaded (0.00MB deduped)\\r'), FloatProgress(value=1.0, max=1.0)…"
      ]
     },
     "metadata": {},
     "output_type": "display_data"
    },
    {
     "data": {
      "text/html": [
       "Find user logs for this run at: <code>/home/matteo/NeuroGEN/TorVergataExperiments/Generative/wandb/run-20211126_163029-3oalngrd/logs/debug.log</code>"
      ],
      "text/plain": [
       "<IPython.core.display.HTML object>"
      ]
     },
     "metadata": {},
     "output_type": "display_data"
    },
    {
     "data": {
      "text/html": [
       "Find internal logs for this run at: <code>/home/matteo/NeuroGEN/TorVergataExperiments/Generative/wandb/run-20211126_163029-3oalngrd/logs/debug-internal.log</code>"
      ],
      "text/plain": [
       "<IPython.core.display.HTML object>"
      ]
     },
     "metadata": {},
     "output_type": "display_data"
    },
    {
     "data": {
      "text/html": [
       "Synced 7 W&B file(s), 0 media file(s), 0 artifact file(s) and 1 other file(s)"
      ],
      "text/plain": [
       "<IPython.core.display.HTML object>"
      ]
     },
     "metadata": {},
     "output_type": "display_data"
    },
    {
     "data": {
      "text/html": [
       "\n",
       "                    <br/>Synced <strong style=\"color:#cdcd00\">crimson-terrain-364</strong>: <a href=\"https://wandb.ai/matteoferrante/TorVergataExperiment-Generative/runs/3oalngrd\" target=\"_blank\">https://wandb.ai/matteoferrante/TorVergataExperiment-Generative/runs/3oalngrd</a><br/>\n",
       "                "
      ],
      "text/plain": [
       "<IPython.core.display.HTML object>"
      ]
     },
     "metadata": {},
     "output_type": "display_data"
    },
    {
     "data": {
      "text/html": [
       "...Successfully finished last run (ID:3oalngrd). Initializing new run:<br/><br/>"
      ],
      "text/plain": [
       "<IPython.core.display.HTML object>"
      ]
     },
     "metadata": {},
     "output_type": "display_data"
    },
    {
     "name": "stderr",
     "output_type": "stream",
     "text": [
      "\u001b[34m\u001b[1mwandb\u001b[0m: wandb version 0.12.7 is available!  To upgrade, please run:\n",
      "\u001b[34m\u001b[1mwandb\u001b[0m:  $ pip install wandb --upgrade\n"
     ]
    },
    {
     "data": {
      "text/html": [
       "\n",
       "                Tracking run with wandb version 0.11.2<br/>\n",
       "                Syncing run <strong style=\"color:#cdcd00\">fallen-durian-365</strong> to <a href=\"https://wandb.ai\" target=\"_blank\">Weights & Biases</a> <a href=\"https://docs.wandb.com/integrations/jupyter.html\" target=\"_blank\">(Documentation)</a>.<br/>\n",
       "                Project page: <a href=\"https://wandb.ai/matteoferrante/TorVergataExperiment-Generative\" target=\"_blank\">https://wandb.ai/matteoferrante/TorVergataExperiment-Generative</a><br/>\n",
       "                Run page: <a href=\"https://wandb.ai/matteoferrante/TorVergataExperiment-Generative/runs/tt3hsqxz\" target=\"_blank\">https://wandb.ai/matteoferrante/TorVergataExperiment-Generative/runs/tt3hsqxz</a><br/>\n",
       "                Run data is saved locally in <code>/home/matteo/NeuroGEN/TorVergataExperiments/Generative/wandb/run-20211126_163558-tt3hsqxz</code><br/><br/>\n",
       "            "
      ],
      "text/plain": [
       "<IPython.core.display.HTML object>"
      ]
     },
     "metadata": {},
     "output_type": "display_data"
    },
    {
     "data": {
      "text/html": [
       "<h1>Run(tt3hsqxz)</h1><iframe src=\"https://wandb.ai/matteoferrante/TorVergataExperiment-Generative/runs/tt3hsqxz\" style=\"border:none;width:100%;height:400px\"></iframe>"
      ],
      "text/plain": [
       "<wandb.sdk.wandb_run.Run at 0x7f02d44adbb0>"
      ]
     },
     "execution_count": 19,
     "metadata": {},
     "output_type": "execute_result"
    }
   ],
   "source": [
    "wandb.init(project=\"TorVergataExperiment-Generative\",config=config)"
   ]
  },
  {
   "cell_type": "code",
   "execution_count": 21,
   "metadata": {},
   "outputs": [],
   "source": [
    "os.makedirs(\"models/vqvae_celeba\",exist_ok=True)\n",
    "model_check= Save_VQVAE_Weights(\"models/vqvae_celeba\")\n",
    "\n",
    "\n",
    "\n",
    "es=tf.keras.callbacks.EarlyStopping(\n",
    "    monitor=\"loss\",\n",
    "    min_delta=0,\n",
    "    patience=8,\n",
    "    verbose=0,\n",
    "    mode=\"auto\",\n",
    "    baseline=None,\n",
    "    restore_best_weights=True,\n",
    ")\n",
    "\n",
    "\n",
    "callbacks=[\n",
    "    WandbImagesVQVAE(test_dataset,sample=False),\n",
    "    WandbCallback(),\n",
    "    model_check,\n",
    "    es,\n",
    "]\n"
   ]
  },
  {
   "cell_type": "markdown",
   "metadata": {},
   "source": [
    "## COMPILE AND TRAIN"
   ]
  },
  {
   "cell_type": "code",
   "execution_count": 22,
   "metadata": {},
   "outputs": [],
   "source": [
    "g.compile(keras.optimizers.Adam(INIT_LR))\n"
   ]
  },
  {
   "cell_type": "code",
   "execution_count": 23,
   "metadata": {},
   "outputs": [
    {
     "name": "stdout",
     "output_type": "stream",
     "text": [
      "Epoch 1/40\n",
      "2164/2164 [==============================] - 706s 323ms/step - loss: 0.0340 - reconstruction_loss: 0.0050 - vqvae_loss: 0.0260 - val_val_reconstruction_loss: 0.0030\n",
      "Epoch 2/40\n",
      "2164/2164 [==============================] - 667s 308ms/step - loss: 0.0080 - reconstruction_loss: 0.0028 - vqvae_loss: 0.0050 - val_val_reconstruction_loss: 0.0025\n",
      "Epoch 3/40\n",
      "2164/2164 [==============================] - 645s 298ms/step - loss: 0.0066 - reconstruction_loss: 0.0025 - vqvae_loss: 0.0041 - val_val_reconstruction_loss: 0.0022\n",
      "Epoch 4/40\n",
      "2164/2164 [==============================] - 645s 298ms/step - loss: 0.0061 - reconstruction_loss: 0.0023 - vqvae_loss: 0.0037 - val_val_reconstruction_loss: 0.0021\n",
      "Epoch 5/40\n",
      "2164/2164 [==============================] - 645s 298ms/step - loss: 0.0057 - reconstruction_loss: 0.0022 - vqvae_loss: 0.0036 - val_val_reconstruction_loss: 0.0020\n",
      "Epoch 6/40\n",
      "2164/2164 [==============================] - 653s 302ms/step - loss: 0.0055 - reconstruction_loss: 0.0021 - vqvae_loss: 0.0034 - val_val_reconstruction_loss: 0.0019\n",
      "Epoch 7/40\n",
      "2164/2164 [==============================] - 642s 297ms/step - loss: 0.0054 - reconstruction_loss: 0.0020 - vqvae_loss: 0.0034 - val_val_reconstruction_loss: 0.0020\n",
      "Epoch 8/40\n",
      "2164/2164 [==============================] - 643s 297ms/step - loss: 0.0053 - reconstruction_loss: 0.0020 - vqvae_loss: 0.0034 - val_val_reconstruction_loss: 0.0019\n",
      "Epoch 9/40\n",
      "2164/2164 [==============================] - 643s 297ms/step - loss: 0.0053 - reconstruction_loss: 0.0019 - vqvae_loss: 0.0033 - val_val_reconstruction_loss: 0.0018\n",
      "Epoch 10/40\n",
      "2164/2164 [==============================] - 704s 325ms/step - loss: 0.0052 - reconstruction_loss: 0.0019 - vqvae_loss: 0.0033 - val_val_reconstruction_loss: 0.0018\n",
      "Epoch 11/40\n",
      "2164/2164 [==============================] - 700s 323ms/step - loss: 0.0051 - reconstruction_loss: 0.0019 - vqvae_loss: 0.0032 - val_val_reconstruction_loss: 0.0018\n",
      "Epoch 12/40\n",
      "2164/2164 [==============================] - 692s 320ms/step - loss: 0.0051 - reconstruction_loss: 0.0019 - vqvae_loss: 0.0032 - val_val_reconstruction_loss: 0.0018\n",
      "Epoch 13/40\n",
      "2164/2164 [==============================] - 726s 335ms/step - loss: 0.0050 - reconstruction_loss: 0.0018 - vqvae_loss: 0.0031 - val_val_reconstruction_loss: 0.0018\n",
      "Epoch 14/40\n",
      "2164/2164 [==============================] - 702s 325ms/step - loss: 0.0049 - reconstruction_loss: 0.0018 - vqvae_loss: 0.0031 - val_val_reconstruction_loss: 0.0018\n",
      "Epoch 15/40\n",
      "2164/2164 [==============================] - 710s 328ms/step - loss: 0.0049 - reconstruction_loss: 0.0018 - vqvae_loss: 0.0031 - val_val_reconstruction_loss: 0.0018\n",
      "Epoch 16/40\n",
      "2164/2164 [==============================] - 705s 326ms/step - loss: 0.0049 - reconstruction_loss: 0.0018 - vqvae_loss: 0.0031 - val_val_reconstruction_loss: 0.0017\n",
      "Epoch 17/40\n",
      "2164/2164 [==============================] - 734s 339ms/step - loss: 0.0048 - reconstruction_loss: 0.0018 - vqvae_loss: 0.0030 - val_val_reconstruction_loss: 0.0017\n",
      "Epoch 18/40\n",
      "2164/2164 [==============================] - 727s 336ms/step - loss: 0.0048 - reconstruction_loss: 0.0018 - vqvae_loss: 0.0030 - val_val_reconstruction_loss: 0.0017\n",
      "Epoch 19/40\n",
      "2164/2164 [==============================] - 704s 325ms/step - loss: 0.0047 - reconstruction_loss: 0.0018 - vqvae_loss: 0.0030 - val_val_reconstruction_loss: 0.0017\n",
      "Epoch 20/40\n",
      "2164/2164 [==============================] - 728s 336ms/step - loss: 0.0047 - reconstruction_loss: 0.0017 - vqvae_loss: 0.0029 - val_val_reconstruction_loss: 0.0017\n",
      "Epoch 21/40\n",
      "2164/2164 [==============================] - 708s 327ms/step - loss: 0.0047 - reconstruction_loss: 0.0017 - vqvae_loss: 0.0029 - val_val_reconstruction_loss: 0.0017\n",
      "Epoch 22/40\n",
      "2164/2164 [==============================] - 706s 326ms/step - loss: 0.0046 - reconstruction_loss: 0.0017 - vqvae_loss: 0.0029 - val_val_reconstruction_loss: 0.0017\n",
      "Epoch 23/40\n",
      "2164/2164 [==============================] - 726s 336ms/step - loss: 0.0046 - reconstruction_loss: 0.0017 - vqvae_loss: 0.0029 - val_val_reconstruction_loss: 0.0017\n",
      "Epoch 24/40\n",
      "2164/2164 [==============================] - 710s 328ms/step - loss: 0.0046 - reconstruction_loss: 0.0017 - vqvae_loss: 0.0029 - val_val_reconstruction_loss: 0.0017\n",
      "Epoch 25/40\n",
      "2164/2164 [==============================] - 716s 331ms/step - loss: 0.0045 - reconstruction_loss: 0.0017 - vqvae_loss: 0.0028 - val_val_reconstruction_loss: 0.0017\n",
      "Epoch 26/40\n",
      "2164/2164 [==============================] - 695s 321ms/step - loss: 0.0045 - reconstruction_loss: 0.0017 - vqvae_loss: 0.0028 - val_val_reconstruction_loss: 0.0017\n",
      "Epoch 27/40\n",
      "2164/2164 [==============================] - 636s 294ms/step - loss: 0.0045 - reconstruction_loss: 0.0017 - vqvae_loss: 0.0028 - val_val_reconstruction_loss: 0.0017\n",
      "Epoch 28/40\n",
      "2164/2164 [==============================] - 597s 276ms/step - loss: 0.0045 - reconstruction_loss: 0.0017 - vqvae_loss: 0.0028 - val_val_reconstruction_loss: 0.0017\n",
      "Epoch 29/40\n",
      "2164/2164 [==============================] - 597s 276ms/step - loss: 0.0045 - reconstruction_loss: 0.0017 - vqvae_loss: 0.0028 - val_val_reconstruction_loss: 0.0017\n",
      "Epoch 30/40\n",
      "2164/2164 [==============================] - 597s 276ms/step - loss: 0.0044 - reconstruction_loss: 0.0017 - vqvae_loss: 0.0028 - val_val_reconstruction_loss: 0.0017\n",
      "Epoch 31/40\n",
      "2164/2164 [==============================] - 596s 275ms/step - loss: 0.0044 - reconstruction_loss: 0.0017 - vqvae_loss: 0.0027 - val_val_reconstruction_loss: 0.0017\n",
      "Epoch 32/40\n",
      "2164/2164 [==============================] - 596s 276ms/step - loss: 0.0044 - reconstruction_loss: 0.0017 - vqvae_loss: 0.0027 - val_val_reconstruction_loss: 0.0017\n",
      "Epoch 33/40\n",
      "2164/2164 [==============================] - 596s 275ms/step - loss: 0.0044 - reconstruction_loss: 0.0017 - vqvae_loss: 0.0027 - val_val_reconstruction_loss: 0.0016\n",
      "Epoch 34/40\n",
      "2164/2164 [==============================] - 596s 275ms/step - loss: 0.0043 - reconstruction_loss: 0.0016 - vqvae_loss: 0.0027 - val_val_reconstruction_loss: 0.0017\n",
      "Epoch 35/40\n",
      "2164/2164 [==============================] - 596s 276ms/step - loss: 0.0043 - reconstruction_loss: 0.0016 - vqvae_loss: 0.0027 - val_val_reconstruction_loss: 0.0017\n",
      "Epoch 36/40\n",
      "2164/2164 [==============================] - 596s 275ms/step - loss: 0.0043 - reconstruction_loss: 0.0016 - vqvae_loss: 0.0026 - val_val_reconstruction_loss: 0.0016\n",
      "Epoch 37/40\n",
      "2164/2164 [==============================] - 594s 275ms/step - loss: 0.0043 - reconstruction_loss: 0.0016 - vqvae_loss: 0.0026 - val_val_reconstruction_loss: 0.0016\n",
      "Epoch 38/40\n",
      "2164/2164 [==============================] - 596s 275ms/step - loss: 0.0042 - reconstruction_loss: 0.0016 - vqvae_loss: 0.0026 - val_val_reconstruction_loss: 0.0016\n",
      "Epoch 39/40\n",
      "2164/2164 [==============================] - 596s 275ms/step - loss: 0.0042 - reconstruction_loss: 0.0016 - vqvae_loss: 0.0026 - val_val_reconstruction_loss: 0.0016\n",
      "Epoch 40/40\n",
      "2164/2164 [==============================] - 595s 275ms/step - loss: 0.0042 - reconstruction_loss: 0.0016 - vqvae_loss: 0.0026 - val_val_reconstruction_loss: 0.0016\n"
     ]
    },
    {
     "data": {
      "text/plain": [
       "<tensorflow.python.keras.callbacks.History at 0x7f0360d20e20>"
      ]
     },
     "execution_count": 23,
     "metadata": {},
     "output_type": "execute_result"
    }
   ],
   "source": [
    "g.fit(train_dataset,validation_data=val_dataset,steps_per_epoch=ts,validation_steps=vs,epochs=EPOCHS,callbacks=callbacks)\n"
   ]
  },
  {
   "cell_type": "markdown",
   "metadata": {},
   "source": [
    "# Phase 2: Train the PixelCNN sampler\n",
    "\n"
   ]
  },
  {
   "cell_type": "code",
   "execution_count": 12,
   "metadata": {},
   "outputs": [],
   "source": [
    "def map_models_weights(model_dir):\n",
    "    files=os.listdir(model_dir)\n",
    "    d={}\n",
    "    for f in files:\n",
    "        if \"encoder\" in f:\n",
    "            d[\"encoder\"]=opj(model_dir,f)\n",
    "        elif (\"generator\" in f) or (\"decoder\" in f):\n",
    "            d[\"decoder\"]=opj(model_dir,f)\n",
    "        elif \"embeddings\" in f:\n",
    "            d[\"embeddings\"]=opj(model_dir,f)\n",
    "    return d\n"
   ]
  },
  {
   "cell_type": "code",
   "execution_count": 13,
   "metadata": {},
   "outputs": [
    {
     "name": "stdout",
     "output_type": "stream",
     "text": [
      "{'encoder': 'models/vqvae_celeba/vq_vae_encoder.h5', 'decoder': 'models/vqvae_celeba/vq_vae_decoder.h5', 'embeddings': 'models/vqvae_celeba/vq_vae_embeddings.npy'}\n"
     ]
    }
   ],
   "source": [
    "\n",
    "#model=VQVAE((28,28,1),latent_dim=16,num_embeddings=128,train_variance=4)\n",
    "\n",
    "weights=map_models_weights(\"models/vqvae_celeba\")\n",
    "\n",
    "print(weights)\n",
    "g.load_weights(weights[\"encoder\"],weights[\"embeddings\"],weights[\"decoder\"])\n",
    "\n",
    "\n",
    "BS=64"
   ]
  },
  {
   "cell_type": "markdown",
   "metadata": {},
   "source": [
    "## Using smaller batch size while predict\n",
    "\n",
    "A memory bug?"
   ]
  },
  {
   "cell_type": "code",
   "execution_count": 14,
   "metadata": {},
   "outputs": [],
   "source": [
    "train_dataset = tf.data.Dataset.from_tensor_slices(train_imgs)\n",
    "train_dataset = (train_dataset\n",
    "    .shuffle(1024)\n",
    "    .map(load_images, num_parallel_calls=AUTOTUNE)\n",
    "    .cache()\n",
    "    .batch(BS)\n",
    "    .prefetch(AUTOTUNE)\n",
    ")\n",
    "\n",
    "ts=len(train_imgs)//BS\n",
    "\n",
    "##VALIDATION\n",
    "\n",
    "val_dataset = tf.data.Dataset.from_tensor_slices(val_imgs)\n",
    "val_dataset = (val_dataset\n",
    "    .shuffle(1024)\n",
    "    .map(load_images, num_parallel_calls=AUTOTUNE)\n",
    "    .cache()\n",
    "    .batch(BS)\n",
    "    .prefetch(AUTOTUNE)\n",
    ")"
   ]
  },
  {
   "cell_type": "code",
   "execution_count": 15,
   "metadata": {},
   "outputs": [
    {
     "name": "stderr",
     "output_type": "stream",
     "text": [
      "100%|██████████| 2165/2165 [14:10<00:00,  2.55it/s]\n"
     ]
    }
   ],
   "source": [
    "encoded_outputs=[]\n",
    "\n",
    "for batch in tqdm.tqdm(train_dataset):\n",
    "    encoded_outputs.append(g.encoder.predict_on_batch(batch))\n",
    "\n",
    "#encoded_outputs = g.encoder.predict(train_dataset)\n"
   ]
  },
  {
   "cell_type": "code",
   "execution_count": 16,
   "metadata": {},
   "outputs": [
    {
     "data": {
      "text/plain": [
       "(8, 8, 512)"
      ]
     },
     "execution_count": 16,
     "metadata": {},
     "output_type": "execute_result"
    }
   ],
   "source": [
    "encoded_outputs[0][0].shape"
   ]
  },
  {
   "cell_type": "code",
   "execution_count": 17,
   "metadata": {},
   "outputs": [
    {
     "name": "stderr",
     "output_type": "stream",
     "text": [
      "100%|██████████| 2165/2165 [07:50<00:00,  4.60it/s]\n"
     ]
    }
   ],
   "source": [
    "codebook_indices=[]\n",
    "for b in tqdm.tqdm(range(len(train_dataset))):\n",
    "\n",
    "    #flat the outputs\n",
    "    batch_encoded=np.array(encoded_outputs[b])\n",
    "    flat_enc_outputs=batch_encoded.reshape(-1,batch_encoded.shape[-1])\n",
    "    code_index=g.vq_layer.get_code_indices(flat_enc_outputs).numpy()\n",
    "    codebook_indices.append(list(code_index))\n",
    "\n",
    "\n"
   ]
  },
  {
   "cell_type": "code",
   "execution_count": 18,
   "metadata": {},
   "outputs": [
    {
     "name": "stdout",
     "output_type": "stream",
     "text": [
      "(8866880,)\n",
      "Shape of the training data for PixelCNN: (138545, 8, 8)\n"
     ]
    }
   ],
   "source": [
    "codebook_indices = list(itertools.chain.from_iterable(codebook_indices))\n",
    "codebook_indices = np.array(codebook_indices)\n",
    "print(codebook_indices.shape)\n",
    "\n",
    "square_dim=batch_encoded.shape[1]\n",
    "\n",
    "codebook_indices = codebook_indices.reshape(-1,square_dim,square_dim)\n",
    "print(f\"Shape of the training data for PixelCNN: {codebook_indices.shape}\")\n",
    "\n",
    "input_shape=(codebook_indices.shape[1],codebook_indices.shape[2])"
   ]
  },
  {
   "cell_type": "code",
   "execution_count": 41,
   "metadata": {},
   "outputs": [
    {
     "name": "stdout",
     "output_type": "stream",
     "text": [
      "Model: \"model_7\"\n",
      "_________________________________________________________________\n",
      "Layer (type)                 Output Shape              Param #   \n",
      "=================================================================\n",
      "input_8 (InputLayer)         [(None, 8, 8)]            0         \n",
      "_________________________________________________________________\n",
      "tf.one_hot_7 (TFOpLambda)    (None, 8, 8, 256)         0         \n",
      "_________________________________________________________________\n",
      "pixel_conv_layer_21 (PixelCo (None, 8, 8, 128)         1605760   \n",
      "_________________________________________________________________\n",
      "residual_block_19 (ResidualB (None, 8, 8, 128)         98624     \n",
      "_________________________________________________________________\n",
      "residual_block_20 (ResidualB (None, 8, 8, 128)         98624     \n",
      "_________________________________________________________________\n",
      "residual_block_21 (ResidualB (None, 8, 8, 128)         98624     \n",
      "_________________________________________________________________\n",
      "residual_block_22 (ResidualB (None, 8, 8, 128)         98624     \n",
      "_________________________________________________________________\n",
      "residual_block_23 (ResidualB (None, 8, 8, 128)         98624     \n",
      "_________________________________________________________________\n",
      "pixel_conv_layer_27 (PixelCo (None, 8, 8, 128)         16512     \n",
      "_________________________________________________________________\n",
      "pixel_conv_layer_28 (PixelCo (None, 8, 8, 128)         16512     \n",
      "_________________________________________________________________\n",
      "pixel_conv_layer_29 (PixelCo (None, 8, 8, 128)         16512     \n",
      "_________________________________________________________________\n",
      "conv2d_102 (Conv2D)          (None, 8, 8, 256)         33024     \n",
      "=================================================================\n",
      "Total params: 2,181,440\n",
      "Trainable params: 2,181,440\n",
      "Non-trainable params: 0\n",
      "_________________________________________________________________\n",
      "None\n"
     ]
    },
    {
     "data": {
      "text/html": [
       "Finishing last run (ID:luzs6oci) before initializing another..."
      ],
      "text/plain": [
       "<IPython.core.display.HTML object>"
      ]
     },
     "metadata": {},
     "output_type": "display_data"
    },
    {
     "data": {
      "text/html": [
       "<br/>Waiting for W&B process to finish, PID 1284568<br/>Program ended successfully."
      ],
      "text/plain": [
       "<IPython.core.display.HTML object>"
      ]
     },
     "metadata": {},
     "output_type": "display_data"
    },
    {
     "data": {
      "application/vnd.jupyter.widget-view+json": {
       "model_id": "",
       "version_major": 2,
       "version_minor": 0
      },
      "text/plain": [
       "VBox(children=(Label(value=' 0.09MB of 0.09MB uploaded (0.00MB deduped)\\r'), FloatProgress(value=1.0, max=1.0)…"
      ]
     },
     "metadata": {},
     "output_type": "display_data"
    },
    {
     "data": {
      "text/html": [
       "Find user logs for this run at: <code>/home/matteo/NeuroGEN/TorVergataExperiments/Generative/wandb/run-20211129_142756-luzs6oci/logs/debug.log</code>"
      ],
      "text/plain": [
       "<IPython.core.display.HTML object>"
      ]
     },
     "metadata": {},
     "output_type": "display_data"
    },
    {
     "data": {
      "text/html": [
       "Find internal logs for this run at: <code>/home/matteo/NeuroGEN/TorVergataExperiments/Generative/wandb/run-20211129_142756-luzs6oci/logs/debug-internal.log</code>"
      ],
      "text/plain": [
       "<IPython.core.display.HTML object>"
      ]
     },
     "metadata": {},
     "output_type": "display_data"
    },
    {
     "data": {
      "text/html": [
       "<h3>Run summary:</h3><br/><style>\n",
       "    table.wandb td:nth-child(1) { padding: 0 10px; text-align: right }\n",
       "    </style><table class=\"wandb\">\n",
       "<tr><td>epoch</td><td>2</td></tr><tr><td>loss</td><td>3.35581</td></tr><tr><td>accuracy</td><td>0.13274</td></tr><tr><td>val_loss</td><td>3.35721</td></tr><tr><td>val_accuracy</td><td>0.133</td></tr><tr><td>_runtime</td><td>144</td></tr><tr><td>_timestamp</td><td>1638192633</td></tr><tr><td>_step</td><td>2</td></tr><tr><td>best_val_loss</td><td>3.35721</td></tr><tr><td>best_epoch</td><td>2</td></tr></table>"
      ],
      "text/plain": [
       "<IPython.core.display.HTML object>"
      ]
     },
     "metadata": {},
     "output_type": "display_data"
    },
    {
     "data": {
      "text/html": [
       "<h3>Run history:</h3><br/><style>\n",
       "    table.wandb td:nth-child(1) { padding: 0 10px; text-align: right }\n",
       "    </style><table class=\"wandb\">\n",
       "<tr><td>epoch</td><td>▁▅█</td></tr><tr><td>loss</td><td>█▃▁</td></tr><tr><td>accuracy</td><td>▁▇█</td></tr><tr><td>val_loss</td><td>█▂▁</td></tr><tr><td>val_accuracy</td><td>▁▅█</td></tr><tr><td>_runtime</td><td>▁▄█</td></tr><tr><td>_timestamp</td><td>▁▄█</td></tr><tr><td>_step</td><td>▁▅█</td></tr></table><br/>"
      ],
      "text/plain": [
       "<IPython.core.display.HTML object>"
      ]
     },
     "metadata": {},
     "output_type": "display_data"
    },
    {
     "data": {
      "text/html": [
       "Synced 7 W&B file(s), 1 media file(s), 0 artifact file(s) and 1 other file(s)"
      ],
      "text/plain": [
       "<IPython.core.display.HTML object>"
      ]
     },
     "metadata": {},
     "output_type": "display_data"
    },
    {
     "data": {
      "text/html": [
       "\n",
       "                    <br/>Synced <strong style=\"color:#cdcd00\">bright-brook-383</strong>: <a href=\"https://wandb.ai/matteoferrante/TorVergataExperiment-Generative/runs/luzs6oci\" target=\"_blank\">https://wandb.ai/matteoferrante/TorVergataExperiment-Generative/runs/luzs6oci</a><br/>\n",
       "                "
      ],
      "text/plain": [
       "<IPython.core.display.HTML object>"
      ]
     },
     "metadata": {},
     "output_type": "display_data"
    },
    {
     "data": {
      "text/html": [
       "...Successfully finished last run (ID:luzs6oci). Initializing new run:<br/><br/>"
      ],
      "text/plain": [
       "<IPython.core.display.HTML object>"
      ]
     },
     "metadata": {},
     "output_type": "display_data"
    },
    {
     "data": {
      "text/html": [
       "\n",
       "                Tracking run with wandb version 0.11.2<br/>\n",
       "                Syncing run <strong style=\"color:#cdcd00\">ancient-shadow-384</strong> to <a href=\"https://wandb.ai\" target=\"_blank\">Weights & Biases</a> <a href=\"https://docs.wandb.com/integrations/jupyter.html\" target=\"_blank\">(Documentation)</a>.<br/>\n",
       "                Project page: <a href=\"https://wandb.ai/matteoferrante/TorVergataExperiment-Generative\" target=\"_blank\">https://wandb.ai/matteoferrante/TorVergataExperiment-Generative</a><br/>\n",
       "                Run page: <a href=\"https://wandb.ai/matteoferrante/TorVergataExperiment-Generative/runs/tuf2bvqb\" target=\"_blank\">https://wandb.ai/matteoferrante/TorVergataExperiment-Generative/runs/tuf2bvqb</a><br/>\n",
       "                Run data is saved locally in <code>/home/matteo/NeuroGEN/TorVergataExperiments/Generative/wandb/run-20211129_143130-tuf2bvqb</code><br/><br/>\n",
       "            "
      ],
      "text/plain": [
       "<IPython.core.display.HTML object>"
      ]
     },
     "metadata": {},
     "output_type": "display_data"
    },
    {
     "data": {
      "text/html": [
       "<h1>Run(tuf2bvqb)</h1><iframe src=\"https://wandb.ai/matteoferrante/TorVergataExperiment-Generative/runs/tuf2bvqb\" style=\"border:none;width:100%;height:400px\"></iframe>"
      ],
      "text/plain": [
       "<wandb.sdk.wandb_run.Run at 0x7f1ab4517310>"
      ]
     },
     "execution_count": 41,
     "metadata": {},
     "output_type": "execute_result"
    }
   ],
   "source": [
    "pixel_cnn = PixelCNN(input_dim=input_shape, n_embeddings=256, n_residual=5, n_convlayer=3)\n",
    "opt = keras.optimizers.Adam(3e-3)\n",
    "pixel_cnn.compile(loss=keras.losses.SparseCategoricalCrossentropy(from_logits=True), optimizer=opt,metrics=\"accuracy\")\n",
    "\n",
    "wandb.init(project=\"TorVergataExperiment-Generative\",config=config)"
   ]
  },
  {
   "cell_type": "code",
   "execution_count": 42,
   "metadata": {},
   "outputs": [],
   "source": [
    "es = tf.keras.callbacks.EarlyStopping(\n",
    "    monitor=\"val_loss\",\n",
    "    min_delta=0,\n",
    "    patience=15,\n",
    "    verbose=0,\n",
    "    mode=\"auto\",\n",
    "    baseline=None,\n",
    "    restore_best_weights=True,\n",
    ")\n",
    "callbacks = [WandbCallback(), es]\n"
   ]
  },
  {
   "cell_type": "code",
   "execution_count": 43,
   "metadata": {},
   "outputs": [
    {
     "name": "stdout",
     "output_type": "stream",
     "text": [
      "Epoch 1/30\n",
      "1949/1949 [==============================] - 75s 36ms/step - loss: 3.7590 - accuracy: 0.0974 - val_loss: 3.4806 - val_accuracy: 0.1314\n"
     ]
    },
    {
     "name": "stderr",
     "output_type": "stream",
     "text": [
      "\u001b[34m\u001b[1mwandb\u001b[0m: \u001b[32m\u001b[41mERROR\u001b[0m Can't save model, h5py returned error: Saving the model to HDF5 format requires the model to be a Functional model or a Sequential model. It does not work for subclassed models, because such models are defined via the body of a Python method, which isn't safely serializable. Consider saving to the Tensorflow SavedModel format (by setting save_format=\"tf\") or using `save_weights`.\n"
     ]
    },
    {
     "name": "stdout",
     "output_type": "stream",
     "text": [
      "Epoch 2/30\n",
      "1949/1949 [==============================] - 65s 33ms/step - loss: 3.4665 - accuracy: 0.1329 - val_loss: 3.4473 - val_accuracy: 0.1357\n",
      "Epoch 3/30\n",
      "1949/1949 [==============================] - 61s 31ms/step - loss: 3.4349 - accuracy: 0.1379 - val_loss: 3.4309 - val_accuracy: 0.1384\n",
      "Epoch 4/30\n",
      "1949/1949 [==============================] - 61s 31ms/step - loss: 3.4211 - accuracy: 0.1397 - val_loss: 3.4262 - val_accuracy: 0.1386\n",
      "Epoch 5/30\n",
      "1949/1949 [==============================] - 62s 32ms/step - loss: 3.4099 - accuracy: 0.1417 - val_loss: 3.4192 - val_accuracy: 0.1396\n",
      "Epoch 6/30\n",
      "1949/1949 [==============================] - 60s 31ms/step - loss: 3.4013 - accuracy: 0.1423 - val_loss: 3.4163 - val_accuracy: 0.1397\n",
      "Epoch 7/30\n",
      "1949/1949 [==============================] - 64s 33ms/step - loss: 3.3982 - accuracy: 0.1435 - val_loss: 3.4124 - val_accuracy: 0.1408\n",
      "Epoch 8/30\n",
      "1949/1949 [==============================] - 57s 29ms/step - loss: 3.3922 - accuracy: 0.1442 - val_loss: 3.4113 - val_accuracy: 0.1412\n",
      "Epoch 9/30\n",
      "1949/1949 [==============================] - 60s 31ms/step - loss: 3.3905 - accuracy: 0.1441 - val_loss: 3.4112 - val_accuracy: 0.1409\n",
      "Epoch 10/30\n",
      "1949/1949 [==============================] - 63s 32ms/step - loss: 3.3873 - accuracy: 0.1447 - val_loss: 3.4069 - val_accuracy: 0.1416\n",
      "Epoch 11/30\n",
      "1949/1949 [==============================] - 62s 32ms/step - loss: 3.3839 - accuracy: 0.1455 - val_loss: 3.4065 - val_accuracy: 0.1417\n",
      "Epoch 12/30\n",
      "1949/1949 [==============================] - 61s 31ms/step - loss: 3.3808 - accuracy: 0.1458 - val_loss: 3.4057 - val_accuracy: 0.1415\n",
      "Epoch 13/30\n",
      "1949/1949 [==============================] - 60s 31ms/step - loss: 3.3786 - accuracy: 0.1460 - val_loss: 3.4043 - val_accuracy: 0.1419\n",
      "Epoch 14/30\n",
      "1949/1949 [==============================] - 60s 31ms/step - loss: 3.3785 - accuracy: 0.1461 - val_loss: 3.4034 - val_accuracy: 0.1422\n",
      "Epoch 15/30\n",
      "1949/1949 [==============================] - 56s 29ms/step - loss: 3.3758 - accuracy: 0.1465 - val_loss: 3.4058 - val_accuracy: 0.1419\n",
      "Epoch 16/30\n",
      "1949/1949 [==============================] - 58s 30ms/step - loss: 3.3734 - accuracy: 0.1468 - val_loss: 3.4027 - val_accuracy: 0.1422\n",
      "Epoch 17/30\n",
      "1949/1949 [==============================] - 59s 30ms/step - loss: 3.3738 - accuracy: 0.1468 - val_loss: 3.4014 - val_accuracy: 0.1428\n",
      "Epoch 18/30\n",
      "1949/1949 [==============================] - 58s 30ms/step - loss: 3.3728 - accuracy: 0.1472 - val_loss: 3.4013 - val_accuracy: 0.1424\n",
      "Epoch 19/30\n",
      "1949/1949 [==============================] - 60s 31ms/step - loss: 3.3706 - accuracy: 0.1472 - val_loss: 3.4019 - val_accuracy: 0.1423\n",
      "Epoch 20/30\n",
      "1949/1949 [==============================] - 58s 30ms/step - loss: 3.3690 - accuracy: 0.1474 - val_loss: 3.4003 - val_accuracy: 0.1428\n",
      "Epoch 21/30\n",
      "1949/1949 [==============================] - 57s 29ms/step - loss: 3.3684 - accuracy: 0.1478 - val_loss: 3.4013 - val_accuracy: 0.1420\n",
      "Epoch 22/30\n",
      "1949/1949 [==============================] - 58s 30ms/step - loss: 3.3654 - accuracy: 0.1479 - val_loss: 3.3997 - val_accuracy: 0.1426\n",
      "Epoch 23/30\n",
      "1949/1949 [==============================] - 57s 29ms/step - loss: 3.3658 - accuracy: 0.1483 - val_loss: 3.4000 - val_accuracy: 0.1429\n",
      "Epoch 24/30\n",
      "1949/1949 [==============================] - 57s 29ms/step - loss: 3.3654 - accuracy: 0.1478 - val_loss: 3.3980 - val_accuracy: 0.1433\n",
      "Epoch 25/30\n",
      "1949/1949 [==============================] - 63s 33ms/step - loss: 3.3656 - accuracy: 0.1482 - val_loss: 3.3973 - val_accuracy: 0.1428\n",
      "Epoch 26/30\n",
      "1949/1949 [==============================] - 58s 30ms/step - loss: 3.3646 - accuracy: 0.1482 - val_loss: 3.4006 - val_accuracy: 0.1426\n",
      "Epoch 27/30\n",
      "1949/1949 [==============================] - 60s 31ms/step - loss: 3.3614 - accuracy: 0.1487 - val_loss: 3.3994 - val_accuracy: 0.1426\n",
      "Epoch 28/30\n",
      "1949/1949 [==============================] - 60s 31ms/step - loss: 3.3617 - accuracy: 0.1485 - val_loss: 3.3981 - val_accuracy: 0.1423\n",
      "Epoch 29/30\n",
      "1949/1949 [==============================] - 57s 29ms/step - loss: 3.3616 - accuracy: 0.1487 - val_loss: 3.3992 - val_accuracy: 0.1433\n",
      "Epoch 30/30\n",
      "1949/1949 [==============================] - 58s 30ms/step - loss: 3.3610 - accuracy: 0.1486 - val_loss: 3.3980 - val_accuracy: 0.1433\n"
     ]
    }
   ],
   "source": [
    "pixel_cnn_dir=\"models/vqvae_celeba/pixelcnn\"\n",
    "os.makedirs(pixel_cnn_dir,exist_ok=True)\n",
    "\n",
    "pixel_cnn.save_dict(opj(pixel_cnn_dir,\"dict.json\"))\n",
    "\n",
    "pixel_cnn.fit(codebook_indices, codebook_indices, batch_size=BS, validation_split=0.1, epochs=30,\n",
    "              callbacks=callbacks)\n",
    "pixel_cnn.model.save_weights(opj(pixel_cnn_dir,\"pixelcnn_vqvae_celeba_weights.h5\"))\n",
    "\n"
   ]
  },
  {
   "cell_type": "markdown",
   "metadata": {},
   "source": [
    "# Phase 3: Sample the VQ VAE"
   ]
  },
  {
   "cell_type": "code",
   "execution_count": 44,
   "metadata": {},
   "outputs": [
    {
     "name": "stdout",
     "output_type": "stream",
     "text": [
      "{'encoder': 'models/vqvae_celeba/vq_vae_encoder.h5', 'decoder': 'models/vqvae_celeba/vq_vae_decoder.h5', 'embeddings': 'models/vqvae_celeba/vq_vae_embeddings.npy'}\n"
     ]
    }
   ],
   "source": [
    "weights=map_models_weights(\"models/vqvae_celeba\")\n",
    "\n",
    "print(weights)\n",
    "g.load_weights(weights[\"encoder\"],weights[\"embeddings\"],weights[\"decoder\"])\n",
    "\n",
    "BS=64\n",
    "\n"
   ]
  },
  {
   "cell_type": "code",
   "execution_count": 50,
   "metadata": {},
   "outputs": [
    {
     "name": "stdout",
     "output_type": "stream",
     "text": [
      "[CONFIG] PixelCNN models/vqvae_celeba/pixelcnn/dict.json\n",
      "Model: \"model_8\"\n",
      "_________________________________________________________________\n",
      "Layer (type)                 Output Shape              Param #   \n",
      "=================================================================\n",
      "input_9 (InputLayer)         [(None, 8, 8)]            0         \n",
      "_________________________________________________________________\n",
      "tf.one_hot_8 (TFOpLambda)    (None, 8, 8, 256)         0         \n",
      "_________________________________________________________________\n",
      "pixel_conv_layer_30 (PixelCo (None, 8, 8, 128)         1605760   \n",
      "_________________________________________________________________\n",
      "residual_block_24 (ResidualB (None, 8, 8, 128)         98624     \n",
      "_________________________________________________________________\n",
      "residual_block_25 (ResidualB (None, 8, 8, 128)         98624     \n",
      "_________________________________________________________________\n",
      "residual_block_26 (ResidualB (None, 8, 8, 128)         98624     \n",
      "_________________________________________________________________\n",
      "residual_block_27 (ResidualB (None, 8, 8, 128)         98624     \n",
      "_________________________________________________________________\n",
      "residual_block_28 (ResidualB (None, 8, 8, 128)         98624     \n",
      "_________________________________________________________________\n",
      "pixel_conv_layer_36 (PixelCo (None, 8, 8, 128)         16512     \n",
      "_________________________________________________________________\n",
      "pixel_conv_layer_37 (PixelCo (None, 8, 8, 128)         16512     \n",
      "_________________________________________________________________\n",
      "pixel_conv_layer_38 (PixelCo (None, 8, 8, 128)         16512     \n",
      "_________________________________________________________________\n",
      "conv2d_122 (Conv2D)          (None, 8, 8, 256)         33024     \n",
      "=================================================================\n",
      "Total params: 2,181,440\n",
      "Trainable params: 2,181,440\n",
      "Non-trainable params: 0\n",
      "_________________________________________________________________\n",
      "None\n"
     ]
    }
   ],
   "source": [
    "pixel_cnn_dir=\"models/vqvae_celeba/pixelcnn\"\n",
    "\n",
    "\n",
    "config=glob.glob(opj(pixel_cnn_dir,\"*.json\"))[0]\n",
    "weights=glob.glob(opj(pixel_cnn_dir,\"*.h5\"))[0]\n",
    "\n",
    "print(f\"[CONFIG] PixelCNN {config}\")\n",
    "f=open(config,\"r\")\n",
    "\n",
    "config=json.load(f)\n",
    "\n",
    "input_dim=config[\"input_dim\"]\n",
    "n_emb=config[\"num_embeddings\"]\n",
    "n_res=config[\"n_residual\"]\n",
    "n_conv=config[\"n_convlayer\"]\n",
    "ksize=config[\"ksize\"]\n",
    "p=PixelCNN(input_dim=input_dim,n_embeddings=n_emb,n_residual=n_res,n_convlayer=n_conv,ksize=ksize)\n",
    "\n",
    "p.model.load_weights(weights)"
   ]
  },
  {
   "cell_type": "code",
   "execution_count": 55,
   "metadata": {},
   "outputs": [],
   "source": [
    "generated_samples=pixelcnn_sample_vqvae(100,p.model,g)\n",
    "\n",
    "images = generated_samples * 255.\n",
    "#images = np.repeat(images, 3, axis=-1)\n",
    "vis = build_montages(images, (128, 128), (10, 10))[0]\n",
    "\n",
    "log = {f\"image_sampled\": wandb.Image(vis)}\n",
    "wandb.log(log)\n"
   ]
  },
  {
   "cell_type": "code",
   "execution_count": 58,
   "metadata": {},
   "outputs": [
    {
     "data": {
      "text/plain": [
       "<matplotlib.image.AxesImage at 0x7f1a4c0d6d30>"
      ]
     },
     "execution_count": 58,
     "metadata": {},
     "output_type": "execute_result"
    },
    {
     "data": {
      "image/png": "[encoded data removed]",
      "text/plain": [
       "<Figure size 432x288 with 1 Axes>"
      ]
     },
     "metadata": {
      "needs_background": "light"
     },
     "output_type": "display_data"
    }
   ],
   "source": [
    "import matplotlib.pyplot as plt\n",
    "plt.imshow(vis)"
   ]
  },
  {
   "cell_type": "code",
   "execution_count": null,
   "metadata": {},
   "outputs": [],
   "source": []
  }
 ],
 "metadata": {
  "kernelspec": {
   "display_name": "Python 3 (ipykernel)",
   "language": "python",
   "name": "python3"
  },
  "language_info": {
   "codemirror_mode": {
    "name": "ipython",
    "version": 3
   },
   "file_extension": ".py",
   "mimetype": "text/x-python",
   "name": "python",
   "nbconvert_exporter": "python",
   "pygments_lexer": "ipython3",
   "version": "3.8.11"
  }
 },
 "nbformat": 4,
 "nbformat_minor": 1
}
