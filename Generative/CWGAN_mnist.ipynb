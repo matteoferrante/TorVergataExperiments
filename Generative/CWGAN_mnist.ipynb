{
 "cells": [
  {
   "cell_type": "code",
   "execution_count": 1,
   "metadata": {},
   "outputs": [
    {
     "name": "stderr",
     "output_type": "stream",
     "text": [
      "\u001B[34m\u001B[1mwandb\u001B[0m: Currently logged in as: \u001B[33mmatteoferrante\u001B[0m (use `wandb login --relogin` to force relogin)\n"
     ]
    },
    {
     "data": {
      "text/plain": [
       "True"
      ]
     },
     "execution_count": 1,
     "metadata": {},
     "output_type": "execute_result"
    }
   ],
   "source": [
    "from classes.ConditionalGAN import CWGAN\n",
    "from utils.callbacks import WandbImagesConditionalGAN, SaveGeneratorWeights\n",
    "import tensorflow as tf\n",
    "from tensorflow import keras\n",
    "import numpy as np\n",
    "import wandb\n",
    "from wandb.keras import WandbCallback\n",
    "import os\n",
    "import tensorflow as tf\n",
    "\n",
    "wandb.login()\n"
   ]
  },
  {
   "cell_type": "code",
   "execution_count": 2,
   "metadata": {},
   "outputs": [
    {
     "name": "stderr",
     "output_type": "stream",
     "text": [
      "\u001B[34m\u001B[1mwandb\u001B[0m: wandb version 0.12.7 is available!  To upgrade, please run:\n",
      "\u001B[34m\u001B[1mwandb\u001B[0m:  $ pip install wandb --upgrade\n"
     ]
    },
    {
     "data": {
      "text/html": [
       "\n",
       "                Tracking run with wandb version 0.12.2<br/>\n",
       "                Syncing run <strong style=\"color:#cdcd00\">sleek-sea-427</strong> to <a href=\"https://wandb.ai\" target=\"_blank\">Weights & Biases</a> <a href=\"https://docs.wandb.com/integrations/jupyter.html\" target=\"_blank\">(Documentation)</a>.<br/>\n",
       "                Project page: <a href=\"https://wandb.ai/matteoferrante/TorVergataExperiment-Generative\" target=\"_blank\">https://wandb.ai/matteoferrante/TorVergataExperiment-Generative</a><br/>\n",
       "                Run page: <a href=\"https://wandb.ai/matteoferrante/TorVergataExperiment-Generative/runs/1drh0ebg\" target=\"_blank\">https://wandb.ai/matteoferrante/TorVergataExperiment-Generative/runs/1drh0ebg</a><br/>\n",
       "                Run data is saved locally in <code>C:\\Users\\matte\\PycharmProjects\\TorVergataExperiments\\Generative\\wandb\\run-20211207_111923-1drh0ebg</code><br/><br/>\n",
       "            "
      ],
      "text/plain": [
       "<IPython.core.display.HTML object>"
      ]
     },
     "metadata": {},
     "output_type": "display_data"
    },
    {
     "name": "stderr",
     "output_type": "stream",
     "text": [
      "c:\\users\\matte\\anaconda3\\envs\\ai_env\\lib\\site-packages\\keras\\optimizer_v2\\rmsprop.py:130: UserWarning: The `lr` argument is deprecated, use `learning_rate` instead.\n",
      "  super(RMSprop, self).__init__(name, **kwargs)\n"
     ]
    }
   ],
   "source": [
    "\n",
    "config={\"dataset\":\"mnist\",\"type\":\"CW-GAN\"}\n",
    "\n",
    "wandb.init(project=\"TorVergataExperiment-Generative\",config=config)\n",
    "\n",
    "## DATA\n",
    "\n",
    "\n",
    "(x_train, y_train), (x_test, y_test) = keras.datasets.mnist.load_data()\n",
    "\n",
    "\n",
    "###\n",
    "BS=256\n",
    "#strategy = tf.distribute.MirroredStrategy()\n",
    "\n",
    "#with strategy.scope():\n",
    "g=CWGAN(latent_dim=100,target_shape=(28,28,1),d_steps=5)"
   ]
  },
  {
   "cell_type": "code",
   "execution_count": 3,
   "metadata": {},
   "outputs": [
    {
     "name": "stdout",
     "output_type": "stream",
     "text": [
      "Model: \"discriminator\"\n",
      "__________________________________________________________________________________________________\n",
      " Layer (type)                   Output Shape         Param #     Connected to                     \n",
      "==================================================================================================\n",
      " input_1 (InputLayer)           [(None, 1)]          0           []                               \n",
      "                                                                                                  \n",
      " embedding (Embedding)          (None, 1, 50)        500         ['input_1[0][0]']                \n",
      "                                                                                                  \n",
      " dense (Dense)                  (None, 1, 784)       39984       ['embedding[0][0]']              \n",
      "                                                                                                  \n",
      " input_2 (InputLayer)           [(None, 28, 28, 1)]  0           []                               \n",
      "                                                                                                  \n",
      " reshape (Reshape)              (None, 28, 28, 1)    0           ['dense[0][0]']                  \n",
      "                                                                                                  \n",
      " concatenate (Concatenate)      (None, 28, 28, 2)    0           ['input_2[0][0]',                \n",
      "                                                                  'reshape[0][0]']                \n",
      "                                                                                                  \n",
      " conv2d (Conv2D)                (None, 14, 14, 256)  4864        ['concatenate[0][0]']            \n",
      "                                                                                                  \n",
      " leaky_re_lu (LeakyReLU)        (None, 14, 14, 256)  0           ['conv2d[0][0]']                 \n",
      "                                                                                                  \n",
      " batch_normalization (BatchNorm  (None, 14, 14, 256)  1024       ['leaky_re_lu[0][0]']            \n",
      " alization)                                                                                       \n",
      "                                                                                                  \n",
      " conv2d_1 (Conv2D)              (None, 7, 7, 512)    1180160     ['batch_normalization[0][0]']    \n",
      "                                                                                                  \n",
      " leaky_re_lu_1 (LeakyReLU)      (None, 7, 7, 512)    0           ['conv2d_1[0][0]']               \n",
      "                                                                                                  \n",
      " batch_normalization_1 (BatchNo  (None, 7, 7, 512)   2048        ['leaky_re_lu_1[0][0]']          \n",
      " rmalization)                                                                                     \n",
      "                                                                                                  \n",
      " global_max_pooling2d (GlobalMa  (None, 512)         0           ['batch_normalization_1[0][0]']  \n",
      " xPooling2D)                                                                                      \n",
      "                                                                                                  \n",
      " dense_1 (Dense)                (None, 1)            513         ['global_max_pooling2d[0][0]']   \n",
      "                                                                                                  \n",
      "==================================================================================================\n",
      "Total params: 1,229,093\n",
      "Trainable params: 1,536\n",
      "Non-trainable params: 1,227,557\n",
      "__________________________________________________________________________________________________\n"
     ]
    }
   ],
   "source": [
    "g.discriminator.summary()"
   ]
  },
  {
   "cell_type": "code",
   "execution_count": 4,
   "metadata": {},
   "outputs": [
    {
     "name": "stdout",
     "output_type": "stream",
     "text": [
      "Model: \"gan\"\n",
      "__________________________________________________________________________________________________\n",
      " Layer (type)                   Output Shape         Param #     Connected to                     \n",
      "==================================================================================================\n",
      " input_7 (InputLayer)           [(None, 100)]        0           []                               \n",
      "                                                                                                  \n",
      " input_6 (InputLayer)           [(None, 1)]          0           []                               \n",
      "                                                                                                  \n",
      " generator (Functional)         (None, 28, 28, 1)    587256      ['input_7[0][0]',                \n",
      "                                                                  'input_6[0][0]']                \n",
      "                                                                                                  \n",
      " discriminator (Functional)     (None, 1)            1229093     ['generator[0][0]',              \n",
      "                                                                  'input_6[0][0]']                \n",
      "                                                                                                  \n",
      "==================================================================================================\n",
      "Total params: 1,816,349\n",
      "Trainable params: 588,792\n",
      "Non-trainable params: 1,227,557\n",
      "__________________________________________________________________________________________________\n"
     ]
    }
   ],
   "source": [
    "g.gan.build(input_shape=(None,100))\n",
    "g.gan.summary()"
   ]
  },
  {
   "cell_type": "code",
   "execution_count": 5,
   "metadata": {},
   "outputs": [],
   "source": [
    "\n",
    "ts=len(x_train)//BS\n",
    "\n",
    "x_train=np.expand_dims(x_train.astype(\"float32\")/255.,-1)\n",
    "x_test=np.expand_dims(x_test.astype(\"float32\")/255.,-1)\n",
    "\n",
    "\n",
    "\n",
    "train_dataset = tf.data.Dataset.from_tensor_slices((x_train,y_train))\n",
    "train_dataset=  train_dataset.shuffle(buffer_size=1024).batch(BS).repeat()\n",
    "\n",
    "\n",
    "test_dataset=tf.data.Dataset.from_tensor_slices((x_test,y_test))\n",
    "test_dataset=test_dataset.shuffle(1024).batch(BS)\n"
   ]
  },
  {
   "cell_type": "code",
   "execution_count": 6,
   "metadata": {},
   "outputs": [
    {
     "ename": "TypeError",
     "evalue": "__init__() got an unexpected keyword argument 'target_shape'",
     "output_type": "error",
     "traceback": [
      "\u001B[1;31m---------------------------------------------------------------------------\u001B[0m",
      "\u001B[1;31mTypeError\u001B[0m                                 Traceback (most recent call last)",
      "\u001B[1;32m~\\AppData\\Local\\Temp/ipykernel_11396/1374714997.py\u001B[0m in \u001B[0;36m<module>\u001B[1;34m\u001B[0m\n\u001B[0;32m      5\u001B[0m \u001B[1;33m\u001B[0m\u001B[0m\n\u001B[0;32m      6\u001B[0m callbacks=[\n\u001B[1;32m----> 7\u001B[1;33m     \u001B[0mWandbImagesConditionalGAN\u001B[0m\u001B[1;33m(\u001B[0m\u001B[0mtarget_shape\u001B[0m\u001B[1;33m=\u001B[0m\u001B[1;33m(\u001B[0m\u001B[1;36m28\u001B[0m\u001B[1;33m,\u001B[0m\u001B[1;36m28\u001B[0m\u001B[1;33m,\u001B[0m\u001B[1;36m1\u001B[0m\u001B[1;33m)\u001B[0m\u001B[1;33m)\u001B[0m\u001B[1;33m,\u001B[0m\u001B[1;33m\u001B[0m\u001B[1;33m\u001B[0m\u001B[0m\n\u001B[0m\u001B[0;32m      8\u001B[0m     \u001B[0mWandbCallback\u001B[0m\u001B[1;33m(\u001B[0m\u001B[1;33m)\u001B[0m\u001B[1;33m,\u001B[0m\u001B[1;33m\u001B[0m\u001B[1;33m\u001B[0m\u001B[0m\n\u001B[0;32m      9\u001B[0m     \u001B[0mmodel_check\u001B[0m\u001B[1;33m\u001B[0m\u001B[1;33m\u001B[0m\u001B[0m\n",
      "\u001B[1;31mTypeError\u001B[0m: __init__() got an unexpected keyword argument 'target_shape'"
     ]
    }
   ],
   "source": [
    "\n",
    "os.makedirs(\"models/wgan_mnist\",exist_ok=True)\n",
    "model_check=SaveGeneratorWeights(filepath=\"models/wgan_mnist/generator_gan_mnist.h5\")\n",
    "\n",
    "\n",
    "\n",
    "callbacks=[\n",
    "    WandbImagesConditionalGAN(target_shape=(28,28,1)),\n",
    "    WandbCallback(),\n",
    "    model_check\n",
    "]\n",
    "\n"
   ]
  },
  {
   "cell_type": "code",
   "execution_count": null,
   "metadata": {},
   "outputs": [],
   "source": []
  }
 ],
 "metadata": {
  "kernelspec": {
   "display_name": "Python 3 (ipykernel)",
   "language": "python",
   "name": "python3"
  },
  "language_info": {
   "codemirror_mode": {
    "name": "ipython",
    "version": 3
   },
   "file_extension": ".py",
   "mimetype": "text/x-python",
   "name": "python",
   "nbconvert_exporter": "python",
   "pygments_lexer": "ipython3",
   "version": "3.8.11"
  }
 },
 "nbformat": 4,
 "nbformat_minor": 1
}