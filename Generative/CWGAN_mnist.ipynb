{
 "cells": [
  {
   "cell_type": "code",
   "execution_count": 1,
   "metadata": {},
   "outputs": [
    {
     "name": "stderr",
     "output_type": "stream",
     "text": [
      "\u001B[34m\u001B[1mwandb\u001B[0m: Currently logged in as: \u001B[33mmatteoferrante\u001B[0m (use `wandb login --relogin` to force relogin)\n"
     ]
    },
    {
     "data": {
      "text/plain": [
       "True"
      ]
     },
     "execution_count": 1,
     "metadata": {},
     "output_type": "execute_result"
    }
   ],
   "source": [
    "from classes.ConditionalGAN import CWGAN\n",
    "from utils.callbacks import WandbImagesConditionalGAN, SaveGeneratorWeights\n",
    "import tensorflow as tf\n",
    "from tensorflow import keras\n",
    "import numpy as np\n",
    "import wandb\n",
    "from wandb.keras import WandbCallback\n",
    "import os\n",
    "import tensorflow as tf\n",
    "\n",
    "wandb.login()\n"
   ]
  },
  {
   "cell_type": "code",
   "execution_count": 18,
   "metadata": {},
   "outputs": [
    {
     "data": {
      "text/html": [
       "Finishing last run (ID:21edcequ) before initializing another..."
      ],
      "text/plain": [
       "<IPython.core.display.HTML object>"
      ]
     },
     "metadata": {},
     "output_type": "display_data"
    },
    {
     "data": {
      "text/html": [
       "<br/>Waiting for W&B process to finish, PID 26804<br/>Program ended successfully."
      ],
      "text/plain": [
       "<IPython.core.display.HTML object>"
      ]
     },
     "metadata": {},
     "output_type": "display_data"
    },
    {
     "data": {
      "application/vnd.jupyter.widget-view+json": {
       "model_id": "",
       "version_major": 2,
       "version_minor": 0
      },
      "text/plain": [
       "VBox(children=(Label(value=' 0.00MB of 0.00MB uploaded (0.00MB deduped)\\r'), FloatProgress(value=1.0, max=1.0)…"
      ]
     },
     "metadata": {},
     "output_type": "display_data"
    },
    {
     "data": {
      "text/html": [
       "Find user logs for this run at: <code>C:\\Users\\matte\\PycharmProjects\\TorVergataExperiments\\Generative\\wandb\\run-20211207_112925-21edcequ\\logs\\debug.log</code>"
      ],
      "text/plain": [
       "<IPython.core.display.HTML object>"
      ]
     },
     "metadata": {},
     "output_type": "display_data"
    },
    {
     "data": {
      "text/html": [
       "Find internal logs for this run at: <code>C:\\Users\\matte\\PycharmProjects\\TorVergataExperiments\\Generative\\wandb\\run-20211207_112925-21edcequ\\logs\\debug-internal.log</code>"
      ],
      "text/plain": [
       "<IPython.core.display.HTML object>"
      ]
     },
     "metadata": {},
     "output_type": "display_data"
    },
    {
     "data": {
      "text/html": [
       "Synced 6 W&B file(s), 0 media file(s), 0 artifact file(s) and 0 other file(s)"
      ],
      "text/plain": [
       "<IPython.core.display.HTML object>"
      ]
     },
     "metadata": {},
     "output_type": "display_data"
    },
    {
     "data": {
      "text/html": [
       "\n",
       "                    <br/>Synced <strong style=\"color:#cdcd00\">lunar-snowball-430</strong>: <a href=\"https://wandb.ai/matteoferrante/TorVergataExperiment-Generative/runs/21edcequ\" target=\"_blank\">https://wandb.ai/matteoferrante/TorVergataExperiment-Generative/runs/21edcequ</a><br/>\n",
       "                "
      ],
      "text/plain": [
       "<IPython.core.display.HTML object>"
      ]
     },
     "metadata": {},
     "output_type": "display_data"
    },
    {
     "data": {
      "text/html": [
       "...Successfully finished last run (ID:21edcequ). Initializing new run:<br/><br/>"
      ],
      "text/plain": [
       "<IPython.core.display.HTML object>"
      ]
     },
     "metadata": {},
     "output_type": "display_data"
    },
    {
     "name": "stderr",
     "output_type": "stream",
     "text": [
      "\u001B[34m\u001B[1mwandb\u001B[0m: wandb version 0.12.7 is available!  To upgrade, please run:\n",
      "\u001B[34m\u001B[1mwandb\u001B[0m:  $ pip install wandb --upgrade\n"
     ]
    },
    {
     "data": {
      "text/html": [
       "\n",
       "                Tracking run with wandb version 0.12.2<br/>\n",
       "                Syncing run <strong style=\"color:#cdcd00\">swept-universe-431</strong> to <a href=\"https://wandb.ai\" target=\"_blank\">Weights & Biases</a> <a href=\"https://docs.wandb.com/integrations/jupyter.html\" target=\"_blank\">(Documentation)</a>.<br/>\n",
       "                Project page: <a href=\"https://wandb.ai/matteoferrante/TorVergataExperiment-Generative\" target=\"_blank\">https://wandb.ai/matteoferrante/TorVergataExperiment-Generative</a><br/>\n",
       "                Run page: <a href=\"https://wandb.ai/matteoferrante/TorVergataExperiment-Generative/runs/2v0eu536\" target=\"_blank\">https://wandb.ai/matteoferrante/TorVergataExperiment-Generative/runs/2v0eu536</a><br/>\n",
       "                Run data is saved locally in <code>C:\\Users\\matte\\PycharmProjects\\TorVergataExperiments\\Generative\\wandb\\run-20211207_113046-2v0eu536</code><br/><br/>\n",
       "            "
      ],
      "text/plain": [
       "<IPython.core.display.HTML object>"
      ]
     },
     "metadata": {},
     "output_type": "display_data"
    }
   ],
   "source": [
    "\n",
    "config={\"dataset\":\"mnist\",\"type\":\"CW-GAN\"}\n",
    "\n",
    "wandb.init(project=\"TorVergataExperiment-Generative\",config=config)\n",
    "\n",
    "## DATA\n",
    "\n",
    "\n",
    "(x_train, y_train), (x_test, y_test) = keras.datasets.mnist.load_data()\n",
    "\n",
    "\n",
    "###\n",
    "BS=256\n",
    "#strategy = tf.distribute.MirroredStrategy()\n",
    "\n",
    "#with strategy.scope():\n",
    "g=CWGAN(latent_dim=100,target_shape=(28,28,1),d_steps=5)"
   ]
  },
  {
   "cell_type": "code",
   "execution_count": 19,
   "metadata": {},
   "outputs": [
    {
     "name": "stdout",
     "output_type": "stream",
     "text": [
      "Model: \"discriminator\"\n",
      "__________________________________________________________________________________________________\n",
      " Layer (type)                   Output Shape         Param #     Connected to                     \n",
      "==================================================================================================\n",
      " input_15 (InputLayer)          [(None, 1)]          0           []                               \n",
      "                                                                                                  \n",
      " embedding_4 (Embedding)        (None, 1, 50)        500         ['input_15[0][0]']               \n",
      "                                                                                                  \n",
      " dense_8 (Dense)                (None, 1, 784)       39984       ['embedding_4[0][0]']            \n",
      "                                                                                                  \n",
      " input_16 (InputLayer)          [(None, 28, 28, 1)]  0           []                               \n",
      "                                                                                                  \n",
      " reshape_6 (Reshape)            (None, 28, 28, 1)    0           ['dense_8[0][0]']                \n",
      "                                                                                                  \n",
      " concatenate_4 (Concatenate)    (None, 28, 28, 2)    0           ['input_16[0][0]',               \n",
      "                                                                  'reshape_6[0][0]']              \n",
      "                                                                                                  \n",
      " conv2d_6 (Conv2D)              (None, 14, 14, 256)  4864        ['concatenate_4[0][0]']          \n",
      "                                                                                                  \n",
      " leaky_re_lu_10 (LeakyReLU)     (None, 14, 14, 256)  0           ['conv2d_6[0][0]']               \n",
      "                                                                                                  \n",
      " batch_normalization_4 (BatchNo  (None, 14, 14, 256)  1024       ['leaky_re_lu_10[0][0]']         \n",
      " rmalization)                                                                                     \n",
      "                                                                                                  \n",
      " conv2d_7 (Conv2D)              (None, 7, 7, 512)    1180160     ['batch_normalization_4[0][0]']  \n",
      "                                                                                                  \n",
      " leaky_re_lu_11 (LeakyReLU)     (None, 7, 7, 512)    0           ['conv2d_7[0][0]']               \n",
      "                                                                                                  \n",
      " batch_normalization_5 (BatchNo  (None, 7, 7, 512)   2048        ['leaky_re_lu_11[0][0]']         \n",
      " rmalization)                                                                                     \n",
      "                                                                                                  \n",
      " global_max_pooling2d_2 (Global  (None, 512)         0           ['batch_normalization_5[0][0]']  \n",
      " MaxPooling2D)                                                                                    \n",
      "                                                                                                  \n",
      " dense_9 (Dense)                (None, 1)            513         ['global_max_pooling2d_2[0][0]'] \n",
      "                                                                                                  \n",
      "==================================================================================================\n",
      "Total params: 1,229,093\n",
      "Trainable params: 1,536\n",
      "Non-trainable params: 1,227,557\n",
      "__________________________________________________________________________________________________\n"
     ]
    }
   ],
   "source": [
    "g.discriminator.summary()"
   ]
  },
  {
   "cell_type": "code",
   "execution_count": 20,
   "metadata": {},
   "outputs": [
    {
     "name": "stdout",
     "output_type": "stream",
     "text": [
      "Model: \"gan\"\n",
      "__________________________________________________________________________________________________\n",
      " Layer (type)                   Output Shape         Param #     Connected to                     \n",
      "==================================================================================================\n",
      " input_21 (InputLayer)          [(None, 100)]        0           []                               \n",
      "                                                                                                  \n",
      " input_20 (InputLayer)          [(None, 1)]          0           []                               \n",
      "                                                                                                  \n",
      " generator (Functional)         (None, 28, 28, 1)    587256      ['input_21[0][0]',               \n",
      "                                                                  'input_20[0][0]']               \n",
      "                                                                                                  \n",
      " discriminator (Functional)     (None, 1)            1229093     ['generator[0][0]',              \n",
      "                                                                  'input_20[0][0]']               \n",
      "                                                                                                  \n",
      "==================================================================================================\n",
      "Total params: 1,816,349\n",
      "Trainable params: 588,792\n",
      "Non-trainable params: 1,227,557\n",
      "__________________________________________________________________________________________________\n"
     ]
    }
   ],
   "source": [
    "g.gan.build(input_shape=(None,100))\n",
    "g.gan.summary()"
   ]
  },
  {
   "cell_type": "code",
   "execution_count": 21,
   "metadata": {},
   "outputs": [],
   "source": [
    "\n",
    "ts=len(x_train)//BS\n",
    "\n",
    "x_train=np.expand_dims(x_train.astype(\"float32\")/255.,-1)\n",
    "x_test=np.expand_dims(x_test.astype(\"float32\")/255.,-1)\n",
    "\n",
    "y_train=np.expand_dims(y_train.astype(\"int32\"),-1)\n",
    "y_test=np.expand_dims(y_test.astype(\"int32\"),-1)\n",
    "\n",
    "\n",
    "train_dataset = tf.data.Dataset.from_tensor_slices((x_train,y_train))\n",
    "train_dataset=  train_dataset.shuffle(buffer_size=1024).batch(BS).repeat()\n",
    "\n",
    "\n",
    "test_dataset=tf.data.Dataset.from_tensor_slices((x_test,y_test))\n",
    "test_dataset=test_dataset.shuffle(1024).batch(BS)\n"
   ]
  },
  {
   "cell_type": "code",
   "execution_count": 22,
   "metadata": {},
   "outputs": [],
   "source": [
    "\n",
    "os.makedirs(\"models/cwgan_mnist\",exist_ok=True)\n",
    "model_check=SaveGeneratorWeights(filepath=\"models/cwgan_mnist/generator_cwgan_mnist.h5\")\n",
    "\n",
    "\n",
    "\n",
    "callbacks=[\n",
    "    WandbImagesConditionalGAN(target_shape=(28,28,1)),\n",
    "    WandbCallback(),\n",
    "    model_check\n",
    "]\n",
    "\n"
   ]
  },
  {
   "cell_type": "code",
   "execution_count": null,
   "metadata": {},
   "outputs": [
    {
     "name": "stdout",
     "output_type": "stream",
     "text": [
      "[EPOCH] 0/40\n"
     ]
    },
    {
     "name": "stderr",
     "output_type": "stream",
     "text": [
      " 96%|███████████████████████████████████████████████████████████████████████████████████████████████████████████████████████████████████████████▋      | 44/46 [00:38<00:01,  1.14it/s]"
     ]
    }
   ],
   "source": [
    "g.train(train_dataset,steps_per_epoch=ts,epochs=40,log=False,callbacks=callbacks)\n"
   ]
  },
  {
   "cell_type": "code",
   "execution_count": null,
   "metadata": {},
   "outputs": [],
   "source": []
  }
 ],
 "metadata": {
  "kernelspec": {
   "display_name": "Python 3 (ipykernel)",
   "language": "python",
   "name": "python3"
  },
  "language_info": {
   "codemirror_mode": {
    "name": "ipython",
    "version": 3
   },
   "file_extension": ".py",
   "mimetype": "text/x-python",
   "name": "python",
   "nbconvert_exporter": "python",
   "pygments_lexer": "ipython3",
   "version": "3.8.11"
  }
 },
 "nbformat": 4,
 "nbformat_minor": 1
}