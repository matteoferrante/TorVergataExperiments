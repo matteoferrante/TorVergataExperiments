{
 "cells": [
  {
   "cell_type": "markdown",
   "id": "20c6f160",
   "metadata": {},
   "source": [
    "## VAE model on CelebA dataset"
   ]
  },
  {
   "cell_type": "code",
   "execution_count": 10,
   "id": "06232a54",
   "metadata": {},
   "outputs": [
    {
     "data": {
      "text/plain": [
       "True"
      ]
     },
     "execution_count": 10,
     "metadata": {},
     "output_type": "execute_result"
    }
   ],
   "source": [
    "import os\n",
    "import sys\n",
    "\n",
    "from classes.VAE import VAE\n",
    "from utils.callbacks import WandbImagesVAE, SaveGeneratorWeights, SaveVAEWeights\n",
    "import tensorflow as tf\n",
    "from tensorflow import keras\n",
    "import numpy as np\n",
    "import wandb\n",
    "from wandb.keras import WandbCallback\n",
    "from imutils import paths\n",
    "\n",
    "\n",
    "wandb.login()\n",
    "\n",
    "\n"
   ]
  },
  {
   "cell_type": "markdown",
   "id": "60552830",
   "metadata": {},
   "source": [
    "## Model definition and configurations"
   ]
  },
  {
   "cell_type": "code",
   "execution_count": 11,
   "id": "f9972c91",
   "metadata": {
    "scrolled": false
   },
   "outputs": [],
   "source": [
    "encoder_architecture=[(1,64),(1,128),(1,256),(1,512)]\n",
    "decoder_architecture=[(1,64),(1,128),(1,256),(1,512)]\n",
    "\n",
    "BS=256\n",
    "g=VAE((128,128,3),\n",
    "      latent_dim=100,\n",
    "      encoder_architecture=encoder_architecture,\n",
    "      decoder_architecture=decoder_architecture,\n",
    "      output_channels=3)\n",
    "\n",
    "\n",
    "config={\"dataset\":\"celebA\", \"type\":\"VAE\",\"encoder_architecture\":encoder_architecture,\"decoder_architecture\":decoder_architecture}\n",
    "config.update(g.get_dict())\n",
    "\n"
   ]
  },
  {
   "cell_type": "code",
   "execution_count": 19,
   "id": "3b058024",
   "metadata": {},
   "outputs": [],
   "source": [
    "images_dir=r\"home/matteo/NeuroGEN/Dataset/Img/img_align_celeba\"\n",
    "\n",
    "#other important definitions\n",
    "\n",
    "EPOCHS=50\n",
    "BS=64\n",
    "INIT_LR=1e-3\n",
    "\n",
    "config[\"epochs\"]=EPOCHS\n",
    "config[\"BS\"]=BS\n",
    "config[\"init_lr\"]=INIT_LR\n"
   ]
  },
  {
   "cell_type": "code",
   "execution_count": 13,
   "id": "2daed033",
   "metadata": {},
   "outputs": [
    {
     "name": "stdout",
     "output_type": "stream",
     "text": [
      "0\n"
     ]
    }
   ],
   "source": [
    "#set the second GPU\n",
    "os.environ[\"CUDA_VISIBLE_DEVICES\"]=\"0\"\n",
    "\n",
    "print(os.environ.get(\"CUDA_VISIBLE_DEVICES\"))"
   ]
  },
  {
   "cell_type": "markdown",
   "id": "9a03c639",
   "metadata": {},
   "source": [
    "## Dataloaders"
   ]
  },
  {
   "cell_type": "code",
   "execution_count": 14,
   "id": "d42970b3",
   "metadata": {},
   "outputs": [],
   "source": [
    "def load_images(imagePath):\n",
    "    # read the image from disk, decode it, resize it, and scale the\n",
    "    # pixels intensities to the range [0, 1]\n",
    "    image = tf.io.read_file(imagePath)\n",
    "    image = tf.image.decode_jpeg(image, channels=3)\n",
    "    image = tf.image.resize(image, (128, 128)) / 255.0\n",
    "\n",
    "    #eventually load other information like attributes here\n",
    "    \n",
    "    # return the image and the extra info\n",
    "    \n",
    "    \n",
    "    return image"
   ]
  },
  {
   "cell_type": "code",
   "execution_count": null,
   "id": "b65f3d55",
   "metadata": {},
   "outputs": [],
   "source": [
    "wandb.init(project=\"TorVergataExperiment-Generative\",config=config,name=\"VAE_CelebA\")"
   ]
  },
  {
   "cell_type": "code",
   "execution_count": 15,
   "id": "201effe6",
   "metadata": {},
   "outputs": [
    {
     "name": "stdout",
     "output_type": "stream",
     "text": [
      "[INFO] loading image paths...\n",
      "[TRAINING]\t 0\n",
      "[VALIDATION]\t 0\n",
      "[TEST]\t 0\n"
     ]
    }
   ],
   "source": [
    "print(\"[INFO] loading image paths...\")\n",
    "imagePaths = list(paths.list_images(images_dir))\n",
    "\n",
    "\n",
    "train_len=int(0.8*len(imagePaths))\n",
    "val_len=int(0.1*len(imagePaths))\n",
    "test_len=int(0.1*len(imagePaths))\n",
    "\n",
    "train_imgs=imagePaths[:train_len]                                #      80% for training\n",
    "val_imgs=imagePaths[train_len:train_len+val_len]                 #      10% for validation\n",
    "test_imgs=imagePaths[train_len+val_len:]                         #      10% for testing\n",
    "\n",
    "print(f\"[TRAINING]\\t {len(train_imgs)}\\n[VALIDATION]\\t {len(val_imgs)}\\n[TEST]\\t {len(test_imgs)}\")"
   ]
  },
  {
   "cell_type": "code",
   "execution_count": null,
   "id": "c975f2d4",
   "metadata": {},
   "outputs": [],
   "source": [
    "#TRAINING \n",
    "\n",
    "train_dataset = tf.data.Dataset.from_tensor_slices(train_imgs)\n",
    "train_dataset = (train_dataset\n",
    "    .shuffle(1024)\n",
    "    .map(load_images, num_parallel_calls=AUTOTUNE)\n",
    "    .cache()\n",
    "    .repeat()\n",
    "    .batch(BS)\n",
    "    .prefetch(AUTOTUNE)\n",
    ")\n",
    "\n",
    "##VALIDATION\n",
    "\n",
    "val_dataset = tf.data.Dataset.from_tensor_slices(val_imgs)\n",
    "val_dataset = (val_dataset\n",
    "    .shuffle(1024)\n",
    "    .map(load_images, num_parallel_calls=AUTOTUNE)\n",
    "    .cache()\n",
    "    .repeat()\n",
    "    .batch(BS)\n",
    "    .prefetch(AUTOTUNE)\n",
    ")\n",
    "\n",
    "## TEST\n",
    "\n",
    "test_dataset = tf.data.Dataset.from_tensor_slices(test_imgs)\n",
    "test_dataset = (test_dataset\n",
    "    .shuffle(1024)\n",
    "    .map(load_images, num_parallel_calls=AUTOTUNE)\n",
    "    .cache()\n",
    "    .repeat()\n",
    "    .batch(BS)\n",
    "    .prefetch(AUTOTUNE)\n",
    ")"
   ]
  },
  {
   "cell_type": "code",
   "execution_count": null,
   "id": "326a8852",
   "metadata": {},
   "outputs": [],
   "source": [
    "print(f\"[INFO] Visual check images in dataset\")\n",
    "X=[]\n",
    "\n",
    "for el in train_dataset:\n",
    "    X.append(el)\n",
    "    break\n",
    "    \n",
    "fig, axs=plt.subplots(6,6,figsize=(8,8))\n",
    "\n",
    "\n",
    "\n",
    "for (i,ax) in enumerate(axs.ravel()):\n",
    "    ax.imshow(X[0][i])"
   ]
  },
  {
   "cell_type": "markdown",
   "id": "6d3bb2ea",
   "metadata": {},
   "source": [
    "## Model Checkpoint"
   ]
  },
  {
   "cell_type": "code",
   "execution_count": null,
   "id": "fab421e1",
   "metadata": {},
   "outputs": [],
   "source": [
    "os.makedirs(\"models/vae\",exist_ok=True)\n",
    "model_check=SaveVAEWeights(filepath=\"models/vae\")\n",
    "\n",
    "\n",
    "callbacks=[\n",
    "    WandbImagesVAE(test_dataset),\n",
    "    WandbCallback(),\n",
    "    model_check,\n",
    "]\n"
   ]
  },
  {
   "cell_type": "markdown",
   "id": "93a37a9b",
   "metadata": {},
   "source": [
    "## Model Training"
   ]
  },
  {
   "cell_type": "code",
   "execution_count": null,
   "id": "543321eb",
   "metadata": {},
   "outputs": [],
   "source": [
    "g.compile(optimizer=keras.optimizers.Adam(learning_rate=INIT_LR))\n",
    "g.fit(train_dataset,validation_data=test_dataset,steps_per_epoch=ts,validation_steps=vs,epochs=40,callbacks=callbacks)\n"
   ]
  }
 ],
 "metadata": {
  "kernelspec": {
   "display_name": "Python 3 (ipykernel)",
   "language": "python",
   "name": "python3"
  },
  "language_info": {
   "codemirror_mode": {
    "name": "ipython",
    "version": 3
   },
   "file_extension": ".py",
   "mimetype": "text/x-python",
   "name": "python",
   "nbconvert_exporter": "python",
   "pygments_lexer": "ipython3",
   "version": "3.8.11"
  }
 },
 "nbformat": 4,
 "nbformat_minor": 5
}
